{
 "cells": [
  {
   "cell_type": "markdown",
   "metadata": {},
   "source": [
    "# Índice:\n",
    "\n",
    "* [1. Introdução](#intro)\n",
    "* [2. Criando Baseline](#baseline)\n",
    "* [2.1 Feature Engineering](#feature)\n",
    "* [2.2 Modeling e Analysis](#ma)\n",
    "* [2.2.1 Treino e teste](#tt)\n",
    "* [2.2.2 Cross Validation](#cv)\n",
    "* [3. Feature Importance](#importance)"
   ]
  },
  {
   "attachments": {
    "1*EMF8-8fZRjnuMRVnsEMDLg.png": {
     "image/png": "[encoded data removed]"
    }
   },
   "cell_type": "markdown",
   "metadata": {},
   "source": [
    "## 1. Introdução <a id = \"intro\"></a>\n",
    "\n",
    "Antes de entrar na criação do modelo, vamos entender alguns pontos que vão ajudar a compreender o que está acontecendo na análise das métricas utilizando a matriz de confusão.\n",
    "\n",
    "A matriz de confusão nos permite analisar de forma detalhada o comportamento do nosso classificador, e para isso ela divide os resultados em quatro tipos:\n",
    "\n",
    "* **True Positive(TP)**: Se refere aos casos que o modelo previu corretamente a classe positiva.\n",
    "\n",
    "* **True Negative(TN)**: Se refere aos casos que o modelo previu corretamente a classe negativa.\n",
    "\n",
    "* **False Positivo(FP)**: Se refere aos casos onde o modelo previu que era de uma classe positiva mas na verdade era da classe negativa.\n",
    "\n",
    "* **False Negative(FN)**: Se refere aos casos onde o modelo previu que era de uma classe negativa mas na verdade era da classe positiva.\n",
    "\n",
    "Para exemplificar uma matriz de confusão em um problema binário, segue abaixo um exemplo.\n",
    "\n",
    "![1*EMF8-8fZRjnuMRVnsEMDLg.png](attachment:1*EMF8-8fZRjnuMRVnsEMDLg.png)\n",
    "\n",
    "#### Métricas\n",
    "\n",
    "Essas métricas são utilizadas para visualizar o comportamento do classificador e podemos responder algumas perguntas sobre o classificador.\n",
    "\n",
    "* **Accuracy**: Qual a porcentagem de acertos do nosso classificador?\n",
    "> $$ \\frac{TP+FP}{TP+TN+FP+FN} $$\n",
    "\n",
    "* **Precision**: Quando classifiquei como correto, quantos realmente estavam corretos?\n",
    "> $$\\frac{TP}{TP+FP}$$\n",
    "\n",
    "* **Recall**: Com que frequência o classificador classifica os exemplos de uma classe? \n",
    "> $$\\frac{TP}{TP+FN}$$\n",
    "\n",
    "* **F1 Score**: É uma métrica que combina Recall e Precision, e indica a qualidade geral do modelo.\n",
    "> $$\\frac{2*Recall*Precision}{Recall + Precision}$$"
   ]
  },
  {
   "cell_type": "markdown",
   "metadata": {},
   "source": [
    "## 2. Criando o baseline <a id = \"baseline\"></a>\n",
    "Para a criação de um modelo inicial para nos basearmos, iremos seguir algumas etapas.\n",
    "\n",
    "* Feature Engineering\n",
    "* Modeling\n",
    "* Performance Analysis\n"
   ]
  },
  {
   "cell_type": "code",
   "execution_count": 31,
   "metadata": {},
   "outputs": [],
   "source": [
    "# importando bibliotecas\n",
    "import pandas as pd #Manipulação do dataframe\n",
    "from asd import dataset,metrics # Importando dataset e metricas\n",
    "import numpy as np # Biblioteca de calculo cientifico\n",
    "import matplotlib.pyplot as plt # Biblioteca de visualização\n",
    "from sklearn import tree # Biblioteca do modelo de árvore de decisão\n",
    "from sklearn.model_selection import train_test_split, cross_val_predict # Biblioteca de separação em treino e teste e validação cruzada\n",
    "from sklearn.metrics import confusion_matrix # Biblioteca que gera matriz de confusão\n",
    "from sklearn.utils.multiclass import unique_labels # Biblioteca geradora das labels\n",
    "\n",
    "%matplotlib inline"
   ]
  },
  {
   "cell_type": "code",
   "execution_count": 32,
   "metadata": {},
   "outputs": [
    {
     "data": {
      "text/html": [
       "<div>\n",
       "<style scoped>\n",
       "    .dataframe tbody tr th:only-of-type {\n",
       "        vertical-align: middle;\n",
       "    }\n",
       "\n",
       "    .dataframe tbody tr th {\n",
       "        vertical-align: top;\n",
       "    }\n",
       "\n",
       "    .dataframe thead th {\n",
       "        text-align: right;\n",
       "    }\n",
       "</style>\n",
       "<table border=\"1\" class=\"dataframe\">\n",
       "  <thead>\n",
       "    <tr style=\"text-align: right;\">\n",
       "      <th></th>\n",
       "      <th>A1_Score</th>\n",
       "      <th>A2_Score</th>\n",
       "      <th>A3_Score</th>\n",
       "      <th>A4_Score</th>\n",
       "      <th>A5_Score</th>\n",
       "      <th>A6_Score</th>\n",
       "      <th>A7_Score</th>\n",
       "      <th>A8_Score</th>\n",
       "      <th>A9_Score</th>\n",
       "      <th>A10_Score</th>\n",
       "      <th>...</th>\n",
       "      <th>gender</th>\n",
       "      <th>ethnicity</th>\n",
       "      <th>jundice</th>\n",
       "      <th>austim</th>\n",
       "      <th>contry_of_res</th>\n",
       "      <th>used_app_before</th>\n",
       "      <th>result</th>\n",
       "      <th>age_desc</th>\n",
       "      <th>relation</th>\n",
       "      <th>Class/ASD</th>\n",
       "    </tr>\n",
       "    <tr>\n",
       "      <th>id</th>\n",
       "      <th></th>\n",
       "      <th></th>\n",
       "      <th></th>\n",
       "      <th></th>\n",
       "      <th></th>\n",
       "      <th></th>\n",
       "      <th></th>\n",
       "      <th></th>\n",
       "      <th></th>\n",
       "      <th></th>\n",
       "      <th></th>\n",
       "      <th></th>\n",
       "      <th></th>\n",
       "      <th></th>\n",
       "      <th></th>\n",
       "      <th></th>\n",
       "      <th></th>\n",
       "      <th></th>\n",
       "      <th></th>\n",
       "      <th></th>\n",
       "      <th></th>\n",
       "    </tr>\n",
       "  </thead>\n",
       "  <tbody>\n",
       "    <tr>\n",
       "      <th>1</th>\n",
       "      <td>1</td>\n",
       "      <td>1</td>\n",
       "      <td>0</td>\n",
       "      <td>0</td>\n",
       "      <td>1</td>\n",
       "      <td>1</td>\n",
       "      <td>0</td>\n",
       "      <td>1</td>\n",
       "      <td>0</td>\n",
       "      <td>0</td>\n",
       "      <td>...</td>\n",
       "      <td>m</td>\n",
       "      <td>Others</td>\n",
       "      <td>no</td>\n",
       "      <td>no</td>\n",
       "      <td>Jordan</td>\n",
       "      <td>no</td>\n",
       "      <td>5</td>\n",
       "      <td>4-11 years</td>\n",
       "      <td>Parent</td>\n",
       "      <td>NO</td>\n",
       "    </tr>\n",
       "    <tr>\n",
       "      <th>2</th>\n",
       "      <td>1</td>\n",
       "      <td>1</td>\n",
       "      <td>0</td>\n",
       "      <td>0</td>\n",
       "      <td>1</td>\n",
       "      <td>1</td>\n",
       "      <td>0</td>\n",
       "      <td>1</td>\n",
       "      <td>0</td>\n",
       "      <td>0</td>\n",
       "      <td>...</td>\n",
       "      <td>m</td>\n",
       "      <td>Middle Eastern</td>\n",
       "      <td>no</td>\n",
       "      <td>no</td>\n",
       "      <td>Jordan</td>\n",
       "      <td>no</td>\n",
       "      <td>5</td>\n",
       "      <td>4-11 years</td>\n",
       "      <td>Parent</td>\n",
       "      <td>NO</td>\n",
       "    </tr>\n",
       "    <tr>\n",
       "      <th>3</th>\n",
       "      <td>1</td>\n",
       "      <td>1</td>\n",
       "      <td>0</td>\n",
       "      <td>0</td>\n",
       "      <td>0</td>\n",
       "      <td>1</td>\n",
       "      <td>1</td>\n",
       "      <td>1</td>\n",
       "      <td>0</td>\n",
       "      <td>0</td>\n",
       "      <td>...</td>\n",
       "      <td>m</td>\n",
       "      <td>?</td>\n",
       "      <td>no</td>\n",
       "      <td>no</td>\n",
       "      <td>Jordan</td>\n",
       "      <td>yes</td>\n",
       "      <td>5</td>\n",
       "      <td>4-11 years</td>\n",
       "      <td>?</td>\n",
       "      <td>NO</td>\n",
       "    </tr>\n",
       "    <tr>\n",
       "      <th>4</th>\n",
       "      <td>0</td>\n",
       "      <td>1</td>\n",
       "      <td>0</td>\n",
       "      <td>0</td>\n",
       "      <td>1</td>\n",
       "      <td>1</td>\n",
       "      <td>0</td>\n",
       "      <td>0</td>\n",
       "      <td>0</td>\n",
       "      <td>1</td>\n",
       "      <td>...</td>\n",
       "      <td>f</td>\n",
       "      <td>?</td>\n",
       "      <td>yes</td>\n",
       "      <td>no</td>\n",
       "      <td>Jordan</td>\n",
       "      <td>no</td>\n",
       "      <td>4</td>\n",
       "      <td>4-11 years</td>\n",
       "      <td>?</td>\n",
       "      <td>NO</td>\n",
       "    </tr>\n",
       "    <tr>\n",
       "      <th>5</th>\n",
       "      <td>1</td>\n",
       "      <td>1</td>\n",
       "      <td>1</td>\n",
       "      <td>1</td>\n",
       "      <td>1</td>\n",
       "      <td>1</td>\n",
       "      <td>1</td>\n",
       "      <td>1</td>\n",
       "      <td>1</td>\n",
       "      <td>1</td>\n",
       "      <td>...</td>\n",
       "      <td>m</td>\n",
       "      <td>Others</td>\n",
       "      <td>yes</td>\n",
       "      <td>no</td>\n",
       "      <td>United States</td>\n",
       "      <td>no</td>\n",
       "      <td>10</td>\n",
       "      <td>4-11 years</td>\n",
       "      <td>Parent</td>\n",
       "      <td>YES</td>\n",
       "    </tr>\n",
       "  </tbody>\n",
       "</table>\n",
       "<p>5 rows × 21 columns</p>\n",
       "</div>"
      ],
      "text/plain": [
       "    A1_Score  A2_Score  A3_Score  A4_Score  A5_Score  A6_Score  A7_Score  \\\n",
       "id                                                                         \n",
       "1          1         1         0         0         1         1         0   \n",
       "2          1         1         0         0         1         1         0   \n",
       "3          1         1         0         0         0         1         1   \n",
       "4          0         1         0         0         1         1         0   \n",
       "5          1         1         1         1         1         1         1   \n",
       "\n",
       "    A8_Score  A9_Score  A10_Score    ...    gender        ethnicity jundice  \\\n",
       "id                                   ...                                      \n",
       "1          1         0          0    ...         m           Others      no   \n",
       "2          1         0          0    ...         m  Middle Eastern       no   \n",
       "3          1         0          0    ...         m                ?      no   \n",
       "4          0         0          1    ...         f                ?     yes   \n",
       "5          1         1          1    ...         m           Others     yes   \n",
       "\n",
       "   austim  contry_of_res used_app_before result    age_desc relation Class/ASD  \n",
       "id                                                                              \n",
       "1      no         Jordan              no      5  4-11 years   Parent        NO  \n",
       "2      no         Jordan              no      5  4-11 years   Parent        NO  \n",
       "3      no         Jordan             yes      5  4-11 years        ?        NO  \n",
       "4      no         Jordan              no      4  4-11 years        ?        NO  \n",
       "5      no  United States              no     10  4-11 years   Parent       YES  \n",
       "\n",
       "[5 rows x 21 columns]"
      ]
     },
     "execution_count": 32,
     "metadata": {},
     "output_type": "execute_result"
    }
   ],
   "source": [
    "# Criando dataframe\n",
    "df = dataset.autism()\n",
    "df.set_index('id',inplace = True)\n",
    "df.head()"
   ]
  },
  {
   "cell_type": "code",
   "execution_count": 33,
   "metadata": {},
   "outputs": [],
   "source": [
    "# Função de plotagem da matriz de confusão\n",
    "def plot_confusion_matrix(y_test,result,cmap = plt.cm.Blues):\n",
    "    # Confusion matrix\n",
    "    cm = confusion_matrix(y_test,result)\n",
    "    classe = unique_labels(y_test,result)\n",
    "    fig, ax = plt.subplots()\n",
    "    im = ax.imshow(cm, interpolation='nearest', cmap=cmap)\n",
    "    ax.figure.colorbar(im, ax=ax)\n",
    "    # We want to show all ticks...\n",
    "    ax.set(xticks=np.arange(cm.shape[1]),\n",
    "           yticks=np.arange(cm.shape[0]),\n",
    "           # ... and label them with the respective list entries\n",
    "           xticklabels=classe, yticklabels=classe,\n",
    "           title= 'Matriz de confusão',\n",
    "           ylabel='Rótulo real',\n",
    "           xlabel='Rótulo previsto')\n",
    "\n",
    "    # Rotate the tick labels and set their alignment.\n",
    "    plt.setp(ax.get_xticklabels(), rotation=45, ha=\"right\",\n",
    "             rotation_mode=\"anchor\")\n",
    "\n",
    "    # Loop over data dimensions and create text annotations.\n",
    "    thresh = cm.max() / 2.\n",
    "    for i in range(cm.shape[0]):\n",
    "        for j in range(cm.shape[1]):\n",
    "            ax.text(j, i, format(cm[i, j]),\n",
    "                    ha=\"center\", va=\"center\",\n",
    "                    color=\"white\" if cm[i, j] > thresh else \"black\")\n",
    "    fig.tight_layout()\n",
    "    return ax\n"
   ]
  },
  {
   "cell_type": "markdown",
   "metadata": {},
   "source": [
    "### 2.1. Feature Engineering <a id = \"feature\"></a>"
   ]
  },
  {
   "cell_type": "markdown",
   "metadata": {},
   "source": [
    "Nessa etapa será selecionado as features que vamos utilizar no modelo baseline."
   ]
  },
  {
   "cell_type": "code",
   "execution_count": 34,
   "metadata": {},
   "outputs": [],
   "source": [
    "# Selecionando colunas com os traços comportamentais.\n",
    "columns = ['A{}_Score'.format(i) for i in range(1,11)]\n",
    "\n",
    "# Separando em variáveis preditoras X e alvo da nossa predição Y\n",
    "X = df[columns]\n",
    "Y = df['Class/ASD']\n",
    "\n",
    "# Para melhor entendimento do dataset, iremos renomear os valores de Y\n",
    "Y = Y.replace({'NO':'Sem_Autismo','YES':'Autismo'})"
   ]
  },
  {
   "cell_type": "markdown",
   "metadata": {},
   "source": [
    "### 2.2. Modeling e Analysis <a id = \"ma\"></a>"
   ]
  },
  {
   "cell_type": "markdown",
   "metadata": {},
   "source": [
    "Nessa etapa aplicaremos o modelo que foi selecionado e com isso a contrução das predições do nosso modelo baseline.\n",
    "\n",
    "* Modelo selecionado: Decision Tree\n",
    "* Motivo: Fácil compreensão."
   ]
  },
  {
   "cell_type": "code",
   "execution_count": 35,
   "metadata": {},
   "outputs": [],
   "source": [
    "# Criação do modelo\n",
    "\n",
    "baseline = tree.DecisionTreeClassifier()"
   ]
  },
  {
   "cell_type": "markdown",
   "metadata": {},
   "source": [
    "Nessa parte testarei duas técnicas.\n",
    "\n",
    "* Separando em treino e teste\n",
    "* Validação cruzada"
   ]
  },
  {
   "cell_type": "markdown",
   "metadata": {},
   "source": [
    "#### 2.2.1. Treino e Teste <a id = \"tt\"></a>"
   ]
  },
  {
   "cell_type": "code",
   "execution_count": 36,
   "metadata": {},
   "outputs": [],
   "source": [
    "# Separando em treino e teste\n",
    "x_train,x_test,y_train,y_test = train_test_split(X,Y,\n",
    "                                                 test_size = 0.4,\n",
    "                                                 random_state = 40)\n",
    "\n",
    "# Treinando o modelo\n",
    "test1 = baseline.fit(x_train,y_train)\n",
    "\n",
    "results = test1.predict(x_test)\n"
   ]
  },
  {
   "cell_type": "code",
   "execution_count": 37,
   "metadata": {},
   "outputs": [
    {
     "ename": "AttributeError",
     "evalue": "module 'asd.metrics' has no attribute 'confusion_performance'",
     "output_type": "error",
     "traceback": [
      "\u001b[0;31m---------------------------------------------------------------------------\u001b[0m",
      "\u001b[0;31mAttributeError\u001b[0m                            Traceback (most recent call last)",
      "\u001b[0;32m<ipython-input-37-c84a8d06d52c>\u001b[0m in \u001b[0;36m<module>\u001b[0;34m\u001b[0m\n\u001b[1;32m      1\u001b[0m \u001b[0;31m# Informações do modelo\u001b[0m\u001b[0;34m\u001b[0m\u001b[0;34m\u001b[0m\u001b[0;34m\u001b[0m\u001b[0m\n\u001b[1;32m      2\u001b[0m \u001b[0mplot_confusion_matrix\u001b[0m\u001b[0;34m(\u001b[0m\u001b[0my_test\u001b[0m\u001b[0;34m,\u001b[0m\u001b[0mresults\u001b[0m\u001b[0;34m)\u001b[0m\u001b[0;34m\u001b[0m\u001b[0;34m\u001b[0m\u001b[0m\n\u001b[0;32m----> 3\u001b[0;31m \u001b[0mmetrics1\u001b[0m \u001b[0;34m=\u001b[0m \u001b[0mmetrics\u001b[0m\u001b[0;34m.\u001b[0m\u001b[0mconfusion_performance\u001b[0m\u001b[0;34m(\u001b[0m\u001b[0my_test\u001b[0m\u001b[0;34m,\u001b[0m\u001b[0mresults\u001b[0m\u001b[0;34m)\u001b[0m\u001b[0;34m\u001b[0m\u001b[0;34m\u001b[0m\u001b[0m\n\u001b[0m\u001b[1;32m      4\u001b[0m \u001b[0mplt\u001b[0m\u001b[0;34m.\u001b[0m\u001b[0mshow\u001b[0m\u001b[0;34m(\u001b[0m\u001b[0;34m)\u001b[0m\u001b[0;34m\u001b[0m\u001b[0;34m\u001b[0m\u001b[0m\n",
      "\u001b[0;31mAttributeError\u001b[0m: module 'asd.metrics' has no attribute 'confusion_performance'"
     ]
    },
    {
     "data": {
      "image/png": "[encoded data removed]",
      "text/plain": [
       "<Figure size 432x288 with 2 Axes>"
      ]
     },
     "metadata": {
      "needs_background": "light"
     },
     "output_type": "display_data"
    }
   ],
   "source": [
    "# Informações do modelo\n",
    "plot_confusion_matrix(y_test,results)\n",
    "metrics1 = metrics.confusion_performance(y_test,results)\n",
    "plt.show()"
   ]
  },
  {
   "cell_type": "code",
   "execution_count": null,
   "metadata": {},
   "outputs": [],
   "source": [
    "print(\"Métricas da matriz de confusão: \\n\")\n",
    "print(metrics1)"
   ]
  },
  {
   "cell_type": "markdown",
   "metadata": {},
   "source": [
    "#### 2.2.2. K-Fold Cross Validation <a id = \"cv\"></a>"
   ]
  },
  {
   "attachments": {
    "cross-validation-folds.png": {
     "image/png": "[encoded data removed]"
    }
   },
   "cell_type": "markdown",
   "metadata": {},
   "source": [
    "A validação cruzada é uma técnica utilizada para evitar que o modelo se \"acostume\" com nossa base de dados e com isso não generalize novas informações.\n",
    "\n",
    "**Funcionamento:**\n",
    "\n",
    "Seu funcionamento se da em \"dividir e testar\", ou seja, os nossos dados são divididos em X partes, em cada uma dessas partes é novamente dividida em treino e teste e é testada então as partes e esse processo é repetido até que o modelo seja testado e treinado em todas essas partes e no final se calcula a métrica dos testes, dessa forma:\n",
    "\n",
    "![cross-validation-folds.png](attachment:cross-validation-folds.png)"
   ]
  },
  {
   "cell_type": "code",
   "execution_count": 38,
   "metadata": {},
   "outputs": [
    {
     "ename": "AttributeError",
     "evalue": "module 'asd.metrics' has no attribute 'confusion_performance'",
     "output_type": "error",
     "traceback": [
      "\u001b[0;31m---------------------------------------------------------------------------\u001b[0m",
      "\u001b[0;31mAttributeError\u001b[0m                            Traceback (most recent call last)",
      "\u001b[0;32m<ipython-input-38-ef814bf3a42c>\u001b[0m in \u001b[0;36m<module>\u001b[0;34m\u001b[0m\n\u001b[1;32m      4\u001b[0m \u001b[0;31m# Informações do modelo\u001b[0m\u001b[0;34m\u001b[0m\u001b[0;34m\u001b[0m\u001b[0;34m\u001b[0m\u001b[0m\n\u001b[1;32m      5\u001b[0m \u001b[0mplot_confusion_matrix\u001b[0m\u001b[0;34m(\u001b[0m\u001b[0mY\u001b[0m\u001b[0;34m,\u001b[0m\u001b[0mresults1\u001b[0m\u001b[0;34m)\u001b[0m\u001b[0;34m\u001b[0m\u001b[0;34m\u001b[0m\u001b[0m\n\u001b[0;32m----> 6\u001b[0;31m \u001b[0mmetrics2\u001b[0m \u001b[0;34m=\u001b[0m \u001b[0mmetrics\u001b[0m\u001b[0;34m.\u001b[0m\u001b[0mconfusion_performance\u001b[0m\u001b[0;34m(\u001b[0m\u001b[0mY\u001b[0m\u001b[0;34m,\u001b[0m\u001b[0mresults1\u001b[0m\u001b[0;34m)\u001b[0m\u001b[0;34m\u001b[0m\u001b[0;34m\u001b[0m\u001b[0m\n\u001b[0m\u001b[1;32m      7\u001b[0m \u001b[0mprint\u001b[0m\u001b[0;34m(\u001b[0m\u001b[0;34m\"Métricas da matriz de confusão\"\u001b[0m\u001b[0;34m)\u001b[0m\u001b[0;34m\u001b[0m\u001b[0;34m\u001b[0m\u001b[0m\n\u001b[1;32m      8\u001b[0m \u001b[0mprint\u001b[0m\u001b[0;34m(\u001b[0m\u001b[0mmetrics2\u001b[0m\u001b[0;34m)\u001b[0m\u001b[0;34m\u001b[0m\u001b[0;34m\u001b[0m\u001b[0m\n",
      "\u001b[0;31mAttributeError\u001b[0m: module 'asd.metrics' has no attribute 'confusion_performance'"
     ]
    },
    {
     "data": {
      "image/png": "[encoded data removed]",
      "text/plain": [
       "<Figure size 432x288 with 2 Axes>"
      ]
     },
     "metadata": {
      "needs_background": "light"
     },
     "output_type": "display_data"
    }
   ],
   "source": [
    "# Validação cruzada\n",
    "results1 = cross_val_predict(baseline, X, Y,cv = 5)\n",
    "\n",
    "# Informações do modelo\n",
    "plot_confusion_matrix(Y,results1)\n",
    "metrics2 = metrics.confusion_performance(Y,results1)\n",
    "print(\"Métricas da matriz de confusão\")\n",
    "print(metrics2)\n",
    "plt.show()\n",
    "    "
   ]
  },
  {
   "cell_type": "markdown",
   "metadata": {},
   "source": [
    "## 3. Feature Importance <a id =\"importance\"><a/>\n",
    "    \n",
    "Utilizar todos os atributos ao nosso alcance nem sempre é uma boa ideia, dependendo do problema isso não vai ficar legal. Então, para descobrir quais são as melhores features para criar o nosso modelo, é necessário aplicar algumas técnicas como: Qui², Importancia Gini ou Redução média da impureza, Importancia da permutação ou Redução média na precisão.\n",
    "\n",
    "No nosso caso o modelo da biblioteca Sklearn, é baseado na Redução média da impureza."
   ]
  },
  {
   "cell_type": "code",
   "execution_count": 56,
   "metadata": {},
   "outputs": [
    {
     "data": {
      "text/plain": [
       "{'A1_Score': 0.06163901458019104,\n",
       " 'A2_Score': 0.033350092173621594,\n",
       " 'A3_Score': 0.07879244590230354,\n",
       " 'A4_Score': 0.35454276873318719,\n",
       " 'A5_Score': 0.06492374727668844,\n",
       " 'A6_Score': 0.069061530336040122,\n",
       " 'A7_Score': 0.048827262062556186,\n",
       " 'A8_Score': 0.073527549671340509,\n",
       " 'A9_Score': 0.06586943678446941,\n",
       " 'A10_Score': 0.14946615247960193}"
      ]
     },
     "execution_count": 56,
     "metadata": {},
     "output_type": "execute_result"
    }
   ],
   "source": [
    "dic = {i:baseline.feature_importances_[v] for v,i in enumerate(X.columns)}\n",
    "dic"
   ]
  },
  {
   "cell_type": "code",
   "execution_count": null,
   "metadata": {},
   "outputs": [],
   "source": []
  }
 ],
 "metadata": {
  "kernelspec": {
   "display_name": "Python 3",
   "language": "python",
   "name": "python3"
  },
  "language_info": {
   "codemirror_mode": {
    "name": "ipython",
    "version": 3
   },
   "file_extension": ".py",
   "mimetype": "text/x-python",
   "name": "python",
   "nbconvert_exporter": "python",
   "pygments_lexer": "ipython3",
   "version": "3.6.7"
  }
 },
 "nbformat": 4,
 "nbformat_minor": 2
}
