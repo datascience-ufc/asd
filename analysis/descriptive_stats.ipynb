{
 "cells": [
  {
   "cell_type": "markdown",
   "metadata": {},
   "source": [
    "## Pontos que seram analisados:\n",
    "* Nesse estudo, qual a proporção entre crianças do sexo M/F?\n",
    "* Qual foi o diagnostico das crianças separadas por sexo?\n",
    "* Quais os paises nesses estudo que tiveram maior número de autistas?\n",
    "* Quem possuia parentes com autismo,tem mais chance de ter autismo?\n",
    "* Como o resultado do teste está relacionado com o autismo?\n",
    "* Como as variáveis comportamentais estão relacionadas com o autismo?\n",
    "* Como as variáveis de comportamento estão relacionadas entre si?\n",
    "\n",
    "Esses são os pontos que inicialmente serão analisados nesse estudo."
   ]
  },
  {
   "cell_type": "code",
   "execution_count": 3,
   "metadata": {},
   "outputs": [
    {
     "name": "stdout",
     "output_type": "stream",
     "text": [
      "Collecting plotly\n",
      "\u001b[?25l  Downloading https://files.pythonhosted.org/packages/ff/75/3982bac5076d0ce6d23103c03840fcaec90c533409f9d82c19f54512a38a/plotly-3.10.0-py2.py3-none-any.whl (41.5MB)\n",
      "\u001b[K    100% |████████████████████████████████| 41.5MB 1.2MB/s eta 0:00:01    40% |█████████████                   | 16.8MB 1.2MB/s eta 0:00:21\n",
      "\u001b[?25hRequirement already satisfied: requests in /opt/conda/lib/python3.7/site-packages (from plotly) (2.21.0)\n",
      "Requirement already satisfied: pytz in /opt/conda/lib/python3.7/site-packages (from plotly) (2018.9)\n",
      "Requirement already satisfied: nbformat>=4.2 in /opt/conda/lib/python3.7/site-packages (from plotly) (4.4.0)\n",
      "Requirement already satisfied: decorator>=4.0.6 in /opt/conda/lib/python3.7/site-packages (from plotly) (4.3.2)\n",
      "Requirement already satisfied: six in /opt/conda/lib/python3.7/site-packages (from plotly) (1.12.0)\n",
      "Collecting retrying>=1.3.3 (from plotly)\n",
      "  Downloading https://files.pythonhosted.org/packages/44/ef/beae4b4ef80902f22e3af073397f079c96969c69b2c7d52a57ea9ae61c9d/retrying-1.3.3.tar.gz\n",
      "Requirement already satisfied: urllib3<1.25,>=1.21.1 in /opt/conda/lib/python3.7/site-packages (from requests->plotly) (1.24.1)\n",
      "Requirement already satisfied: idna<2.9,>=2.5 in /opt/conda/lib/python3.7/site-packages (from requests->plotly) (2.8)\n",
      "Requirement already satisfied: certifi>=2017.4.17 in /opt/conda/lib/python3.7/site-packages (from requests->plotly) (2019.3.9)\n",
      "Requirement already satisfied: chardet<3.1.0,>=3.0.2 in /opt/conda/lib/python3.7/site-packages (from requests->plotly) (3.0.4)\n",
      "Requirement already satisfied: ipython_genutils in /opt/conda/lib/python3.7/site-packages (from nbformat>=4.2->plotly) (0.2.0)\n",
      "Requirement already satisfied: traitlets>=4.1 in /opt/conda/lib/python3.7/site-packages (from nbformat>=4.2->plotly) (4.3.2)\n",
      "Requirement already satisfied: jsonschema!=2.5.0,>=2.4 in /opt/conda/lib/python3.7/site-packages (from nbformat>=4.2->plotly) (3.0.1)\n",
      "Requirement already satisfied: jupyter_core in /opt/conda/lib/python3.7/site-packages (from nbformat>=4.2->plotly) (4.4.0)\n",
      "Requirement already satisfied: attrs>=17.4.0 in /opt/conda/lib/python3.7/site-packages (from jsonschema!=2.5.0,>=2.4->nbformat>=4.2->plotly) (19.1.0)\n",
      "Requirement already satisfied: pyrsistent>=0.14.0 in /opt/conda/lib/python3.7/site-packages (from jsonschema!=2.5.0,>=2.4->nbformat>=4.2->plotly) (0.14.11)\n",
      "Requirement already satisfied: setuptools in /opt/conda/lib/python3.7/site-packages (from jsonschema!=2.5.0,>=2.4->nbformat>=4.2->plotly) (40.8.0)\n",
      "Building wheels for collected packages: retrying\n",
      "  Building wheel for retrying (setup.py) ... \u001b[?25ldone\n",
      "\u001b[?25h  Stored in directory: /home/jovyan/.cache/pip/wheels/d7/a9/33/acc7b709e2a35caa7d4cae442f6fe6fbf2c43f80823d46460c\n",
      "Successfully built retrying\n",
      "Installing collected packages: retrying, plotly\n",
      "Successfully installed plotly-3.10.0 retrying-1.3.3\n"
     ]
    }
   ],
   "source": [
    "# Instalando a biblioteca plotly\n",
    "!pip install plotly"
   ]
  },
  {
   "cell_type": "code",
   "execution_count": 4,
   "metadata": {},
   "outputs": [
    {
     "data": {
      "text/html": [
       "        <script type=\"text/javascript\">\n",
       "        window.PlotlyConfig = {MathJaxConfig: 'local'};\n",
       "        if (window.MathJax) {MathJax.Hub.Config({SVG: {font: \"STIX-Web\"}});}\n",
       "        if (typeof require !== 'undefined') {\n",
       "        require.undef(\"plotly\");\n",
       "        requirejs.config({\n",
       "            paths: {\n",
       "                'plotly': ['https://cdn.plot.ly/plotly-latest.min']\n",
       "            }\n",
       "        });\n",
       "        require(['plotly'], function(Plotly) {\n",
       "            window._Plotly = Plotly;\n",
       "        });\n",
       "        }\n",
       "        </script>\n",
       "        "
      ]
     },
     "metadata": {},
     "output_type": "display_data"
    }
   ],
   "source": [
    "# Importando bibliotecas\n",
    "from asd import dataset\n",
    "import pandas as pd\n",
    "import numpy as np\n",
    "import plotly.offline as py\n",
    "import plotly.graph_objs as go\n",
    "py.init_notebook_mode(connected=True)"
   ]
  },
  {
   "cell_type": "code",
   "execution_count": 5,
   "metadata": {},
   "outputs": [
    {
     "data": {
      "text/html": [
       "<div>\n",
       "<style scoped>\n",
       "    .dataframe tbody tr th:only-of-type {\n",
       "        vertical-align: middle;\n",
       "    }\n",
       "\n",
       "    .dataframe tbody tr th {\n",
       "        vertical-align: top;\n",
       "    }\n",
       "\n",
       "    .dataframe thead th {\n",
       "        text-align: right;\n",
       "    }\n",
       "</style>\n",
       "<table border=\"1\" class=\"dataframe\">\n",
       "  <thead>\n",
       "    <tr style=\"text-align: right;\">\n",
       "      <th></th>\n",
       "      <th>A1_Score</th>\n",
       "      <th>A2_Score</th>\n",
       "      <th>A3_Score</th>\n",
       "      <th>A4_Score</th>\n",
       "      <th>A5_Score</th>\n",
       "      <th>A6_Score</th>\n",
       "      <th>A7_Score</th>\n",
       "      <th>A8_Score</th>\n",
       "      <th>A9_Score</th>\n",
       "      <th>A10_Score</th>\n",
       "      <th>...</th>\n",
       "      <th>gender</th>\n",
       "      <th>ethnicity</th>\n",
       "      <th>jundice</th>\n",
       "      <th>austim</th>\n",
       "      <th>contry_of_res</th>\n",
       "      <th>used_app_before</th>\n",
       "      <th>result</th>\n",
       "      <th>age_desc</th>\n",
       "      <th>relation</th>\n",
       "      <th>Class/ASD</th>\n",
       "    </tr>\n",
       "    <tr>\n",
       "      <th>id</th>\n",
       "      <th></th>\n",
       "      <th></th>\n",
       "      <th></th>\n",
       "      <th></th>\n",
       "      <th></th>\n",
       "      <th></th>\n",
       "      <th></th>\n",
       "      <th></th>\n",
       "      <th></th>\n",
       "      <th></th>\n",
       "      <th></th>\n",
       "      <th></th>\n",
       "      <th></th>\n",
       "      <th></th>\n",
       "      <th></th>\n",
       "      <th></th>\n",
       "      <th></th>\n",
       "      <th></th>\n",
       "      <th></th>\n",
       "      <th></th>\n",
       "      <th></th>\n",
       "    </tr>\n",
       "  </thead>\n",
       "  <tbody>\n",
       "    <tr>\n",
       "      <th>1</th>\n",
       "      <td>1</td>\n",
       "      <td>1</td>\n",
       "      <td>0</td>\n",
       "      <td>0</td>\n",
       "      <td>1</td>\n",
       "      <td>1</td>\n",
       "      <td>0</td>\n",
       "      <td>1</td>\n",
       "      <td>0</td>\n",
       "      <td>0</td>\n",
       "      <td>...</td>\n",
       "      <td>m</td>\n",
       "      <td>Others</td>\n",
       "      <td>no</td>\n",
       "      <td>no</td>\n",
       "      <td>Jordan</td>\n",
       "      <td>no</td>\n",
       "      <td>5</td>\n",
       "      <td>4-11 years</td>\n",
       "      <td>Parent</td>\n",
       "      <td>NO</td>\n",
       "    </tr>\n",
       "    <tr>\n",
       "      <th>2</th>\n",
       "      <td>1</td>\n",
       "      <td>1</td>\n",
       "      <td>0</td>\n",
       "      <td>0</td>\n",
       "      <td>1</td>\n",
       "      <td>1</td>\n",
       "      <td>0</td>\n",
       "      <td>1</td>\n",
       "      <td>0</td>\n",
       "      <td>0</td>\n",
       "      <td>...</td>\n",
       "      <td>m</td>\n",
       "      <td>Middle Eastern</td>\n",
       "      <td>no</td>\n",
       "      <td>no</td>\n",
       "      <td>Jordan</td>\n",
       "      <td>no</td>\n",
       "      <td>5</td>\n",
       "      <td>4-11 years</td>\n",
       "      <td>Parent</td>\n",
       "      <td>NO</td>\n",
       "    </tr>\n",
       "    <tr>\n",
       "      <th>3</th>\n",
       "      <td>1</td>\n",
       "      <td>1</td>\n",
       "      <td>0</td>\n",
       "      <td>0</td>\n",
       "      <td>0</td>\n",
       "      <td>1</td>\n",
       "      <td>1</td>\n",
       "      <td>1</td>\n",
       "      <td>0</td>\n",
       "      <td>0</td>\n",
       "      <td>...</td>\n",
       "      <td>m</td>\n",
       "      <td>?</td>\n",
       "      <td>no</td>\n",
       "      <td>no</td>\n",
       "      <td>Jordan</td>\n",
       "      <td>yes</td>\n",
       "      <td>5</td>\n",
       "      <td>4-11 years</td>\n",
       "      <td>?</td>\n",
       "      <td>NO</td>\n",
       "    </tr>\n",
       "    <tr>\n",
       "      <th>4</th>\n",
       "      <td>0</td>\n",
       "      <td>1</td>\n",
       "      <td>0</td>\n",
       "      <td>0</td>\n",
       "      <td>1</td>\n",
       "      <td>1</td>\n",
       "      <td>0</td>\n",
       "      <td>0</td>\n",
       "      <td>0</td>\n",
       "      <td>1</td>\n",
       "      <td>...</td>\n",
       "      <td>f</td>\n",
       "      <td>?</td>\n",
       "      <td>yes</td>\n",
       "      <td>no</td>\n",
       "      <td>Jordan</td>\n",
       "      <td>no</td>\n",
       "      <td>4</td>\n",
       "      <td>4-11 years</td>\n",
       "      <td>?</td>\n",
       "      <td>NO</td>\n",
       "    </tr>\n",
       "    <tr>\n",
       "      <th>5</th>\n",
       "      <td>1</td>\n",
       "      <td>1</td>\n",
       "      <td>1</td>\n",
       "      <td>1</td>\n",
       "      <td>1</td>\n",
       "      <td>1</td>\n",
       "      <td>1</td>\n",
       "      <td>1</td>\n",
       "      <td>1</td>\n",
       "      <td>1</td>\n",
       "      <td>...</td>\n",
       "      <td>m</td>\n",
       "      <td>Others</td>\n",
       "      <td>yes</td>\n",
       "      <td>no</td>\n",
       "      <td>United States</td>\n",
       "      <td>no</td>\n",
       "      <td>10</td>\n",
       "      <td>4-11 years</td>\n",
       "      <td>Parent</td>\n",
       "      <td>YES</td>\n",
       "    </tr>\n",
       "  </tbody>\n",
       "</table>\n",
       "<p>5 rows × 21 columns</p>\n",
       "</div>"
      ],
      "text/plain": [
       "    A1_Score  A2_Score  A3_Score  A4_Score  A5_Score  A6_Score  A7_Score  \\\n",
       "id                                                                         \n",
       "1          1         1         0         0         1         1         0   \n",
       "2          1         1         0         0         1         1         0   \n",
       "3          1         1         0         0         0         1         1   \n",
       "4          0         1         0         0         1         1         0   \n",
       "5          1         1         1         1         1         1         1   \n",
       "\n",
       "    A8_Score  A9_Score  A10_Score  ... gender        ethnicity jundice austim  \\\n",
       "id                                 ...                                          \n",
       "1          1         0          0  ...      m           Others      no     no   \n",
       "2          1         0          0  ...      m  Middle Eastern       no     no   \n",
       "3          1         0          0  ...      m                ?      no     no   \n",
       "4          0         0          1  ...      f                ?     yes     no   \n",
       "5          1         1          1  ...      m           Others     yes     no   \n",
       "\n",
       "    contry_of_res used_app_before result    age_desc relation Class/ASD  \n",
       "id                                                                       \n",
       "1          Jordan              no      5  4-11 years   Parent        NO  \n",
       "2          Jordan              no      5  4-11 years   Parent        NO  \n",
       "3          Jordan             yes      5  4-11 years        ?        NO  \n",
       "4          Jordan              no      4  4-11 years        ?        NO  \n",
       "5   United States              no     10  4-11 years   Parent       YES  \n",
       "\n",
       "[5 rows x 21 columns]"
      ]
     },
     "execution_count": 5,
     "metadata": {},
     "output_type": "execute_result"
    }
   ],
   "source": [
    "# Criando o dataframe\n",
    "df = dataset.autism()\n",
    "df.set_index('id',inplace = True)\n",
    "df.head()"
   ]
  },
  {
   "cell_type": "code",
   "execution_count": 6,
   "metadata": {
    "scrolled": false
   },
   "outputs": [
    {
     "name": "stdout",
     "output_type": "stream",
     "text": [
      "<class 'pandas.core.frame.DataFrame'>\n",
      "Int64Index: 292 entries, 1 to 292\n",
      "Data columns (total 21 columns):\n",
      "A1_Score           292 non-null int64\n",
      "A2_Score           292 non-null int64\n",
      "A3_Score           292 non-null int64\n",
      "A4_Score           292 non-null int64\n",
      "A5_Score           292 non-null int64\n",
      "A6_Score           292 non-null int64\n",
      "A7_Score           292 non-null int64\n",
      "A8_Score           292 non-null int64\n",
      "A9_Score           292 non-null int64\n",
      "A10_Score          292 non-null int64\n",
      "age                292 non-null object\n",
      "gender             292 non-null object\n",
      "ethnicity          292 non-null object\n",
      "jundice            292 non-null object\n",
      "austim             292 non-null object\n",
      "contry_of_res      292 non-null object\n",
      "used_app_before    292 non-null object\n",
      "result             292 non-null int64\n",
      "age_desc           292 non-null object\n",
      "relation           292 non-null object\n",
      "Class/ASD          292 non-null object\n",
      "dtypes: int64(11), object(10)\n",
      "memory usage: 50.2+ KB\n"
     ]
    }
   ],
   "source": [
    "# Informações sobre o dataframe\n",
    "df.info()"
   ]
  },
  {
   "cell_type": "code",
   "execution_count": 7,
   "metadata": {},
   "outputs": [
    {
     "name": "stdout",
     "output_type": "stream",
     "text": [
      "[208, 84]\n"
     ]
    },
    {
     "data": {
      "text/plain": [
       "['71.23%', '28.77%']"
      ]
     },
     "execution_count": 7,
     "metadata": {},
     "output_type": "execute_result"
    }
   ],
   "source": [
    "# Função para conversão de valores em porcentagem\n",
    "def porcentagem(x):\n",
    "    x = np.array(x)\n",
    "    p = (x/sum(x))*100\n",
    "    p_m = ['{}%'.format(round(i,2)) for i in p]\n",
    "    return p_m\n",
    "x = df['gender'].value_counts()\n",
    "test = porcentagem(x)\n",
    "print(list(x))\n",
    "test"
   ]
  },
  {
   "cell_type": "markdown",
   "metadata": {},
   "source": [
    "### Proporção entre crianças do sexo M/F"
   ]
  },
  {
   "cell_type": "code",
   "execution_count": 8,
   "metadata": {},
   "outputs": [
    {
     "data": {
      "application/vnd.plotly.v1+json": {
       "config": {
        "linkText": "Export to plot.ly",
        "plotlyServerURL": "https://plot.ly",
        "showLink": false
       },
       "data": [
        {
         "text": [
          "71.23%",
          "28.77%"
         ],
         "textposition": "auto",
         "type": "bar",
         "uid": "7e0f85ee-4fb4-41bf-9896-48e1b4f0af56",
         "x": [
          "Masculino",
          "Feminino"
         ],
         "y": [
          208,
          84
         ]
        }
       ],
       "layout": {
        "title": {
         "text": "Distribuição masculino/feminino na amostra"
        },
        "xaxis": {
         "title": {
          "text": "Sexo"
         }
        },
        "yaxis": {
         "title": {
          "text": "Quantidade de crianças"
         }
        }
       }
      },
      "text/html": [
       "<div>\n",
       "        \n",
       "        \n",
       "            <div id=\"52365731-3719-47c8-9bcd-b6269da122ea\" class=\"plotly-graph-div\" style=\"height:525px; width:100%;\"></div>\n",
       "            <script type=\"text/javascript\">\n",
       "                require([\"plotly\"], function(Plotly) {\n",
       "                    window.PLOTLYENV=window.PLOTLYENV || {};\n",
       "                    window.PLOTLYENV.BASE_URL='https://plot.ly';\n",
       "                    \n",
       "                if (document.getElementById(\"52365731-3719-47c8-9bcd-b6269da122ea\")) {\n",
       "                    Plotly.newPlot(\n",
       "                        '52365731-3719-47c8-9bcd-b6269da122ea',\n",
       "                        [{\"text\": [\"71.23%\", \"28.77%\"], \"textposition\": \"auto\", \"type\": \"bar\", \"uid\": \"7e0f85ee-4fb4-41bf-9896-48e1b4f0af56\", \"x\": [\"Masculino\", \"Feminino\"], \"y\": [208, 84]}],\n",
       "                        {\"title\": {\"text\": \"Distribui\\u00e7\\u00e3o masculino/feminino na amostra\"}, \"xaxis\": {\"title\": {\"text\": \"Sexo\"}}, \"yaxis\": {\"title\": {\"text\": \"Quantidade de crian\\u00e7as\"}}},\n",
       "                        {\"showLink\": false, \"linkText\": \"Export to plot.ly\", \"plotlyServerURL\": \"https://plot.ly\", \"responsive\": true}\n",
       "                    ).then(function(){\n",
       "                            \n",
       "var gd = document.getElementById('52365731-3719-47c8-9bcd-b6269da122ea');\n",
       "var x = new MutationObserver(function (mutations, observer) {{\n",
       "        var display = window.getComputedStyle(gd).display;\n",
       "        if (!display || display === 'none') {{\n",
       "            console.log([gd, 'removed!']);\n",
       "            Plotly.purge(gd);\n",
       "            observer.disconnect();\n",
       "        }}\n",
       "}});\n",
       "\n",
       "// Listen for the removal of the full notebook cells\n",
       "var notebookContainer = gd.closest('#notebook-container');\n",
       "if (notebookContainer) {{\n",
       "    x.observe(notebookContainer, {childList: true});\n",
       "}}\n",
       "\n",
       "// Listen for the clearing of the current output cell\n",
       "var outputEl = gd.closest('.output');\n",
       "if (outputEl) {{\n",
       "    x.observe(outputEl, {childList: true});\n",
       "}}\n",
       "\n",
       "                        })\n",
       "                };\n",
       "                });\n",
       "            </script>\n",
       "        </div>"
      ]
     },
     "metadata": {},
     "output_type": "display_data"
    }
   ],
   "source": [
    "from plotly.graph_objs import Layout\n",
    "\n",
    "#Gráfico de comparação de amostras M/F\n",
    "data = [go.Bar(x = ['Masculino','Feminino'],\n",
    "               y = df['gender'].value_counts(),\n",
    "               text = porcentagem(df['gender'].value_counts()),\n",
    "               textposition = 'auto')]\n",
    "\n",
    "#layout = go.Layout(yaxis = dict(tickformat=\".2%\"))\n",
    "\n",
    "py.iplot({\n",
    "\"data\": data,\n",
    "\"layout\": Layout(\n",
    "    title=\"Distribuição masculino/feminino na amostra\",\n",
    "    xaxis=dict(title=\"Sexo\"),\n",
    "    yaxis=dict(title=\"Quantidade de crianças\")\n",
    ")\n",
    "})\n"
   ]
  },
  {
   "cell_type": "markdown",
   "metadata": {},
   "source": [
    "### Diagnóstico de autismo separado por sexo"
   ]
  },
  {
   "cell_type": "code",
   "execution_count": 9,
   "metadata": {},
   "outputs": [
    {
     "data": {
      "text/plain": [
       "['71.23%', '28.77%']"
      ]
     },
     "execution_count": 9,
     "metadata": {},
     "output_type": "execute_result"
    }
   ],
   "source": [
    "# Função para conversão de valores em porcentagem\n",
    "def porcentagem2d(x,y,v):\n",
    "    aux = []\n",
    "    for t in range(0,2):\n",
    "        #print(t)\n",
    "        #print(x[t])\n",
    "        #print(y[t])\n",
    "        x2 = np.array([x[t],y[t]])\n",
    "        #print(x2)\n",
    "        p = (x2/sum(x2))*100\n",
    "        #print(p)\n",
    "        p_m = ['{}%'.format(round(i,2)) for i in p]\n",
    "        #print(p_m)\n",
    "        aux.append(p_m)\n",
    "    print(aux)\n",
    "    if v == 0:\n",
    "        return [aux[0][0], aux[1][0]]\n",
    "    elif v == 1:\n",
    "        return [aux[0][1], aux[1][1]]\n",
    "#x = df['gender'].value_counts()\n",
    "x = [105, 103]\n",
    "y = [46, 38]\n",
    "#test = porcentagem2d(x, y, 0)\n",
    "#print(list(x))\n",
    "test"
   ]
  },
  {
   "cell_type": "code",
   "execution_count": 10,
   "metadata": {
    "scrolled": false
   },
   "outputs": [
    {
     "name": "stdout",
     "output_type": "stream",
     "text": [
      "{'NO': 105, 'YES': 103}\n",
      "{'NO': 46, 'YES': 38}\n",
      "[['69.54%', '30.46%'], ['73.05%', '26.95%']]\n",
      "['69.54%', '73.05%']\n",
      "[['69.54%', '30.46%'], ['73.05%', '26.95%']]\n",
      "[['69.54%', '30.46%'], ['73.05%', '26.95%']]\n"
     ]
    },
    {
     "data": {
      "application/vnd.plotly.v1+json": {
       "config": {
        "linkText": "Export to plot.ly",
        "plotlyServerURL": "https://plot.ly",
        "showLink": false
       },
       "data": [
        {
         "name": "Masculino",
         "text": [
          "69.54%",
          "73.05%"
         ],
         "textposition": "auto",
         "type": "bar",
         "uid": "e429f75a-e10c-459b-86e0-98be7e7081e4",
         "x": [
          "Não-Autista",
          "Autista"
         ],
         "y": [
          105,
          103
         ]
        },
        {
         "marker": {
          "color": "orange"
         },
         "name": "Feminino",
         "text": [
          "30.46%",
          "26.95%"
         ],
         "textposition": "auto",
         "type": "bar",
         "uid": "7c3c16ed-d351-4f2b-ab76-2aa6af6db6ca",
         "x": [
          "Não-Autista",
          "Autista"
         ],
         "y": [
          46,
          38
         ]
        }
       ],
       "layout": {
        "barmode": "group"
       }
      },
      "text/html": [
       "<div>\n",
       "        \n",
       "        \n",
       "            <div id=\"e81da40f-bf0c-4332-a05d-09969ddb2ee7\" class=\"plotly-graph-div\" style=\"height:525px; width:100%;\"></div>\n",
       "            <script type=\"text/javascript\">\n",
       "                require([\"plotly\"], function(Plotly) {\n",
       "                    window.PLOTLYENV=window.PLOTLYENV || {};\n",
       "                    window.PLOTLYENV.BASE_URL='https://plot.ly';\n",
       "                    \n",
       "                if (document.getElementById(\"e81da40f-bf0c-4332-a05d-09969ddb2ee7\")) {\n",
       "                    Plotly.newPlot(\n",
       "                        'e81da40f-bf0c-4332-a05d-09969ddb2ee7',\n",
       "                        [{\"name\": \"Masculino\", \"text\": [\"69.54%\", \"73.05%\"], \"textposition\": \"auto\", \"type\": \"bar\", \"uid\": \"e429f75a-e10c-459b-86e0-98be7e7081e4\", \"x\": [\"N\\u00e3o-Autista\", \"Autista\"], \"y\": [105, 103]}, {\"marker\": {\"color\": \"orange\"}, \"name\": \"Feminino\", \"text\": [\"30.46%\", \"26.95%\"], \"textposition\": \"auto\", \"type\": \"bar\", \"uid\": \"7c3c16ed-d351-4f2b-ab76-2aa6af6db6ca\", \"x\": [\"N\\u00e3o-Autista\", \"Autista\"], \"y\": [46, 38]}],\n",
       "                        {\"barmode\": \"group\"},\n",
       "                        {\"showLink\": false, \"linkText\": \"Export to plot.ly\", \"plotlyServerURL\": \"https://plot.ly\", \"responsive\": true}\n",
       "                    ).then(function(){\n",
       "                            \n",
       "var gd = document.getElementById('e81da40f-bf0c-4332-a05d-09969ddb2ee7');\n",
       "var x = new MutationObserver(function (mutations, observer) {{\n",
       "        var display = window.getComputedStyle(gd).display;\n",
       "        if (!display || display === 'none') {{\n",
       "            console.log([gd, 'removed!']);\n",
       "            Plotly.purge(gd);\n",
       "            observer.disconnect();\n",
       "        }}\n",
       "}});\n",
       "\n",
       "// Listen for the removal of the full notebook cells\n",
       "var notebookContainer = gd.closest('#notebook-container');\n",
       "if (notebookContainer) {{\n",
       "    x.observe(notebookContainer, {childList: true});\n",
       "}}\n",
       "\n",
       "// Listen for the clearing of the current output cell\n",
       "var outputEl = gd.closest('.output');\n",
       "if (outputEl) {{\n",
       "    x.observe(outputEl, {childList: true});\n",
       "}}\n",
       "\n",
       "                        })\n",
       "                };\n",
       "                });\n",
       "            </script>\n",
       "        </div>"
      ]
     },
     "metadata": {},
     "output_type": "display_data"
    }
   ],
   "source": [
    "#Separando dataframe por sexo\n",
    "masc = df.query('gender == \"m\"')\n",
    "fem = df.query('gender == \"f\"')\n",
    "\n",
    "# Criando estrutura para armazenar Classe/ASD\n",
    "autismo_m = masc['Class/ASD'].value_counts().to_dict()\n",
    "autismo_f = fem['Class/ASD'].value_counts().to_dict()\n",
    "\n",
    "print(autismo_m)\n",
    "print(autismo_f)\n",
    "\n",
    "# Substituindo valores de classe NO -> NO-Autism, YES -> Autism\n",
    "\n",
    "new_x = [x for x in autismo_m.keys()]\n",
    "for i,v in enumerate(new_x):\n",
    "    if v == 'NO':\n",
    "        new_x[i] = v.replace('NO','Não-Autista')\n",
    "    elif v == 'YES':\n",
    "        new_x[i] = v.replace('YES','Autista')\n",
    "        \n",
    "# Gráfica de representação\n",
    "\n",
    "print (porcentagem2d(list(autismo_m.values()), list(autismo_f.values()), 0))\n",
    "\n",
    "trace_m = go.Bar(x   = new_x,\n",
    "                 y = list(autismo_m.values()),\n",
    "                 text = porcentagem2d(list(autismo_m.values()), list(autismo_f.values()), 0),\n",
    "                 textposition = 'auto',\n",
    "                 name = 'Masculino')\n",
    "\n",
    "trace_f = go.Bar(x = new_x,\n",
    "                 y = list(autismo_f.values()),\n",
    "                 text = porcentagem2d(list(autismo_m.values()), list(autismo_f.values()), 1),\n",
    "                 textposition = 'auto',\n",
    "                 marker = dict(\n",
    "                    color = 'orange'\n",
    "                 ),\n",
    "                 name = 'Feminino')\n",
    "\n",
    "data1 = [trace_m, trace_f]\n",
    "#data2 = [trace_f]\n",
    "\n",
    "layout1 = go.Layout(barmode = 'group')\n",
    "#layout2 = go.Layout(barmode = 'stack')\n",
    "\n",
    "fig1 = go.Figure(data=data1, layout = layout1)\n",
    "#fig2 = go.Figure(data=data2, layout = layout2)\n",
    "py.iplot(fig1)\n",
    "#py.iplot(fig2)"
   ]
  },
  {
   "cell_type": "markdown",
   "metadata": {},
   "source": [
    "### Os 5 países com maior incidencia de autismo no dataset\n"
   ]
  },
  {
   "cell_type": "code",
   "execution_count": 11,
   "metadata": {},
   "outputs": [
    {
     "data": {
      "application/vnd.plotly.v1+json": {
       "config": {
        "linkText": "Export to plot.ly",
        "plotlyServerURL": "https://plot.ly",
        "showLink": false
       },
       "data": [
        {
         "orientation": "h",
         "text": [
          "34.44%",
          "26.67%",
          "18.89%",
          "13.33%",
          "6.67%"
         ],
         "textposition": "auto",
         "type": "bar",
         "uid": "f1c4d1e0-2709-4b32-a39e-e0b53da618db",
         "x": [
          31,
          24,
          17,
          12,
          6
         ],
         "y": [
          "United States",
          "United Kingdom",
          "India",
          "Australia",
          "Egypt"
         ]
        }
       ],
       "layout": {
        "title": {
         "text": "Os 5 países com maior incidência de autismo na amostra"
        },
        "xaxis": {
         "title": {
          "text": "Quantidade de autistas"
         }
        },
        "yaxis": {
         "title": {
          "text": ""
         }
        }
       }
      },
      "text/html": [
       "<div>\n",
       "        \n",
       "        \n",
       "            <div id=\"21a40096-1c26-4095-b427-82001daef60e\" class=\"plotly-graph-div\" style=\"height:525px; width:100%;\"></div>\n",
       "            <script type=\"text/javascript\">\n",
       "                require([\"plotly\"], function(Plotly) {\n",
       "                    window.PLOTLYENV=window.PLOTLYENV || {};\n",
       "                    window.PLOTLYENV.BASE_URL='https://plot.ly';\n",
       "                    \n",
       "                if (document.getElementById(\"21a40096-1c26-4095-b427-82001daef60e\")) {\n",
       "                    Plotly.newPlot(\n",
       "                        '21a40096-1c26-4095-b427-82001daef60e',\n",
       "                        [{\"orientation\": \"h\", \"text\": [\"34.44%\", \"26.67%\", \"18.89%\", \"13.33%\", \"6.67%\"], \"textposition\": \"auto\", \"type\": \"bar\", \"uid\": \"f1c4d1e0-2709-4b32-a39e-e0b53da618db\", \"x\": [31, 24, 17, 12, 6], \"y\": [\"United States\", \"United Kingdom\", \"India\", \"Australia\", \"Egypt\"]}],\n",
       "                        {\"title\": {\"text\": \"Os 5 pa\\u00edses com maior incid\\u00eancia de autismo na amostra\"}, \"xaxis\": {\"title\": {\"text\": \"Quantidade de autistas\"}}, \"yaxis\": {\"title\": {\"text\": \"\"}}},\n",
       "                        {\"showLink\": false, \"linkText\": \"Export to plot.ly\", \"plotlyServerURL\": \"https://plot.ly\", \"responsive\": true}\n",
       "                    ).then(function(){\n",
       "                            \n",
       "var gd = document.getElementById('21a40096-1c26-4095-b427-82001daef60e');\n",
       "var x = new MutationObserver(function (mutations, observer) {{\n",
       "        var display = window.getComputedStyle(gd).display;\n",
       "        if (!display || display === 'none') {{\n",
       "            console.log([gd, 'removed!']);\n",
       "            Plotly.purge(gd);\n",
       "            observer.disconnect();\n",
       "        }}\n",
       "}});\n",
       "\n",
       "// Listen for the removal of the full notebook cells\n",
       "var notebookContainer = gd.closest('#notebook-container');\n",
       "if (notebookContainer) {{\n",
       "    x.observe(notebookContainer, {childList: true});\n",
       "}}\n",
       "\n",
       "// Listen for the clearing of the current output cell\n",
       "var outputEl = gd.closest('.output');\n",
       "if (outputEl) {{\n",
       "    x.observe(outputEl, {childList: true});\n",
       "}}\n",
       "\n",
       "                        })\n",
       "                };\n",
       "                });\n",
       "            </script>\n",
       "        </div>"
      ]
     },
     "metadata": {},
     "output_type": "display_data"
    },
    {
     "data": {
      "application/vnd.plotly.v1+json": {
       "config": {
        "linkText": "Export to plot.ly",
        "plotlyServerURL": "https://plot.ly",
        "showLink": false
       },
       "data": [
        {
         "orientation": "h",
         "text": [
          "27.84%",
          "23.86%",
          "23.86%",
          "13.07%",
          "11.36%"
         ],
         "textposition": "auto",
         "type": "bar",
         "uid": "fce0c3dd-1f0e-4494-baea-368ab1df46aa",
         "x": [
          49,
          42,
          42,
          23,
          20
         ],
         "y": [
          "United Kingdom",
          "India",
          "United States",
          "Australia",
          "Jordan"
         ]
        }
       ],
       "layout": {
        "title": {
         "text": "Países com mais participantes"
        },
        "xaxis": {
         "title": {
          "text": "Quantidade de autistas"
         }
        },
        "yaxis": {
         "title": {
          "text": ""
         }
        }
       }
      },
      "text/html": [
       "<div>\n",
       "        \n",
       "        \n",
       "            <div id=\"e6dcfcf8-891a-4da8-9eff-3a6ea64ff702\" class=\"plotly-graph-div\" style=\"height:525px; width:100%;\"></div>\n",
       "            <script type=\"text/javascript\">\n",
       "                require([\"plotly\"], function(Plotly) {\n",
       "                    window.PLOTLYENV=window.PLOTLYENV || {};\n",
       "                    window.PLOTLYENV.BASE_URL='https://plot.ly';\n",
       "                    \n",
       "                if (document.getElementById(\"e6dcfcf8-891a-4da8-9eff-3a6ea64ff702\")) {\n",
       "                    Plotly.newPlot(\n",
       "                        'e6dcfcf8-891a-4da8-9eff-3a6ea64ff702',\n",
       "                        [{\"orientation\": \"h\", \"text\": [\"27.84%\", \"23.86%\", \"23.86%\", \"13.07%\", \"11.36%\"], \"textposition\": \"auto\", \"type\": \"bar\", \"uid\": \"fce0c3dd-1f0e-4494-baea-368ab1df46aa\", \"x\": [49, 42, 42, 23, 20], \"y\": [\"United Kingdom\", \"India\", \"United States\", \"Australia\", \"Jordan\"]}],\n",
       "                        {\"title\": {\"text\": \"Pa\\u00edses com mais participantes\"}, \"xaxis\": {\"title\": {\"text\": \"Quantidade de autistas\"}}, \"yaxis\": {\"title\": {\"text\": \"\"}}},\n",
       "                        {\"showLink\": false, \"linkText\": \"Export to plot.ly\", \"plotlyServerURL\": \"https://plot.ly\", \"responsive\": true}\n",
       "                    ).then(function(){\n",
       "                            \n",
       "var gd = document.getElementById('e6dcfcf8-891a-4da8-9eff-3a6ea64ff702');\n",
       "var x = new MutationObserver(function (mutations, observer) {{\n",
       "        var display = window.getComputedStyle(gd).display;\n",
       "        if (!display || display === 'none') {{\n",
       "            console.log([gd, 'removed!']);\n",
       "            Plotly.purge(gd);\n",
       "            observer.disconnect();\n",
       "        }}\n",
       "}});\n",
       "\n",
       "// Listen for the removal of the full notebook cells\n",
       "var notebookContainer = gd.closest('#notebook-container');\n",
       "if (notebookContainer) {{\n",
       "    x.observe(notebookContainer, {childList: true});\n",
       "}}\n",
       "\n",
       "// Listen for the clearing of the current output cell\n",
       "var outputEl = gd.closest('.output');\n",
       "if (outputEl) {{\n",
       "    x.observe(outputEl, {childList: true});\n",
       "}}\n",
       "\n",
       "                        })\n",
       "                };\n",
       "                });\n",
       "            </script>\n",
       "        </div>"
      ]
     },
     "metadata": {},
     "output_type": "display_data"
    }
   ],
   "source": [
    "# Filtrando dataframe apenas para crianças autistas\n",
    "df_aut = df[df['Class/ASD'] == \"YES\"]\n",
    "\n",
    "#Armazenando a quantidade em ordem crescente do número de autistas por paises.\n",
    "contry = df_aut['contry_of_res'].value_counts().sort_values(ascending = False)\n",
    "country = df['contry_of_res'].value_counts().sort_values(ascending = False)\n",
    "\n",
    "# COnstruindo o gráfico\n",
    "data2 = [go.Bar(x = contry[:5],\n",
    "                y = contry.index[:5],\n",
    "                text = porcentagem(contry[:5]),\n",
    "                textposition = 'auto',\n",
    "                orientation = 'h')]\n",
    "\n",
    "py.iplot({\n",
    "\"data\": data2,\n",
    "\"layout\": Layout(\n",
    "    title=\"Os 5 países com maior incidência de autismo na amostra\",\n",
    "    xaxis=dict(title=\"Quantidade de autistas\"),\n",
    "    yaxis=dict(title=\"\")\n",
    ")\n",
    "})\n",
    "\n",
    "data3 = [go.Bar(x = country[:5],\n",
    "                y = country.index[:5],\n",
    "                text = porcentagem(country[:5]),\n",
    "                textposition = 'auto',\n",
    "                orientation = 'h')]\n",
    "\n",
    "py.iplot({\n",
    "\"data\": data3,\n",
    "\"layout\": Layout(\n",
    "    title=\"Países com mais participantes\",\n",
    "    xaxis=dict(title=\"Quantidade de autistas\"),\n",
    "    yaxis=dict(title=\"\")\n",
    ")\n",
    "})\n"
   ]
  },
  {
   "cell_type": "markdown",
   "metadata": {},
   "source": [
    "### Herança genética das crianças com autismo\n",
    "\n",
    "O fato de ter alguém com autismo na família pode indicar que outras pessoas nessa família teram autismo?"
   ]
  },
  {
   "cell_type": "code",
   "execution_count": 12,
   "metadata": {},
   "outputs": [
    {
     "data": {
      "application/vnd.plotly.v1+json": {
       "config": {
        "linkText": "Export to plot.ly",
        "plotlyServerURL": "https://plot.ly",
        "showLink": false
       },
       "data": [
        {
         "name": "Parente sem autismo",
         "text": [
          "81.46%",
          "85.11%"
         ],
         "textposition": "auto",
         "type": "bar",
         "uid": "d8f9397c-e3e9-437e-875f-25cef0f61f49",
         "x": [
          "Não-Autista",
          "Autista"
         ],
         "y": [
          123,
          120
         ]
        },
        {
         "name": "Parente com autismo",
         "text": [
          "18.54%",
          "14.89%"
         ],
         "textposition": "auto",
         "type": "bar",
         "uid": "5ab97b14-9f65-40ba-b80f-08382e9d6258",
         "x": [
          "Não-Autista",
          "Autista"
         ],
         "y": [
          28,
          21
         ]
        }
       ],
       "layout": {
        "barmode": "group"
       }
      },
      "text/html": [
       "<div>\n",
       "        \n",
       "        \n",
       "            <div id=\"ccc637bb-db1c-4fc0-96ac-c78b3ff372c6\" class=\"plotly-graph-div\" style=\"height:525px; width:100%;\"></div>\n",
       "            <script type=\"text/javascript\">\n",
       "                require([\"plotly\"], function(Plotly) {\n",
       "                    window.PLOTLYENV=window.PLOTLYENV || {};\n",
       "                    window.PLOTLYENV.BASE_URL='https://plot.ly';\n",
       "                    \n",
       "                if (document.getElementById(\"ccc637bb-db1c-4fc0-96ac-c78b3ff372c6\")) {\n",
       "                    Plotly.newPlot(\n",
       "                        'ccc637bb-db1c-4fc0-96ac-c78b3ff372c6',\n",
       "                        [{\"name\": \"Parente sem autismo\", \"text\": [\"81.46%\", \"85.11%\"], \"textposition\": \"auto\", \"type\": \"bar\", \"uid\": \"d8f9397c-e3e9-437e-875f-25cef0f61f49\", \"x\": [\"N\\u00e3o-Autista\", \"Autista\"], \"y\": [123, 120]}, {\"name\": \"Parente com autismo\", \"text\": [\"18.54%\", \"14.89%\"], \"textposition\": \"auto\", \"type\": \"bar\", \"uid\": \"5ab97b14-9f65-40ba-b80f-08382e9d6258\", \"x\": [\"N\\u00e3o-Autista\", \"Autista\"], \"y\": [28, 21]}],\n",
       "                        {\"barmode\": \"group\"},\n",
       "                        {\"showLink\": false, \"linkText\": \"Export to plot.ly\", \"plotlyServerURL\": \"https://plot.ly\", \"responsive\": true}\n",
       "                    ).then(function(){\n",
       "                            \n",
       "var gd = document.getElementById('ccc637bb-db1c-4fc0-96ac-c78b3ff372c6');\n",
       "var x = new MutationObserver(function (mutations, observer) {{\n",
       "        var display = window.getComputedStyle(gd).display;\n",
       "        if (!display || display === 'none') {{\n",
       "            console.log([gd, 'removed!']);\n",
       "            Plotly.purge(gd);\n",
       "            observer.disconnect();\n",
       "        }}\n",
       "}});\n",
       "\n",
       "// Listen for the removal of the full notebook cells\n",
       "var notebookContainer = gd.closest('#notebook-container');\n",
       "if (notebookContainer) {{\n",
       "    x.observe(notebookContainer, {childList: true});\n",
       "}}\n",
       "\n",
       "// Listen for the clearing of the current output cell\n",
       "var outputEl = gd.closest('.output');\n",
       "if (outputEl) {{\n",
       "    x.observe(outputEl, {childList: true});\n",
       "}}\n",
       "\n",
       "                        })\n",
       "                };\n",
       "                });\n",
       "            </script>\n",
       "        </div>"
      ]
     },
     "metadata": {},
     "output_type": "display_data"
    }
   ],
   "source": [
    "# Agrupando casos de autismo em parentes com os pacientes analisados do dataset\n",
    "parentes = df.groupby('austim')['Class/ASD'].value_counts()\n",
    "\n",
    "com_parente_e_autista = parentes['yes']['YES']\n",
    "sem_parente_e_autista = parentes['no']['YES']\n",
    "com_parente_e_nao_autista = parentes['yes']['NO']\n",
    "sem_parente_e_nao_autista =  parentes['no']['NO']\n",
    "\n",
    "\n",
    "total_nao_autista = com_parente_e_nao_autista + sem_parente_e_nao_autista\n",
    "total_autista = com_parente_e_autista + sem_parente_e_autista\n",
    "\n",
    "g1 = [sem_parente_e_nao_autista/total_nao_autista, sem_parente_e_autista/total_autista ]\n",
    "g2 = [com_parente_e_nao_autista/total_nao_autista, com_parente_e_autista/total_autista]\n",
    "\n",
    "def percent_format(x):\n",
    "    return '{:.2f}%'.format(100 * x)\n",
    "\n",
    "# Criando gráfico para visualização\n",
    "trace_psa = go.Bar(x = new_x,\n",
    "                  y = list(parentes[:2]),\n",
    "                  text = [percent_format(x) for x in g1],\n",
    "                  textposition = 'auto',\n",
    "                  name = 'Parente sem autismo')\n",
    "\n",
    "trace_pca = go.Bar(x = new_x,\n",
    "                  y = list(parentes[2:]),\n",
    "                  text = [percent_format(x) for x in g2],\n",
    "                  textposition = 'auto',\n",
    "                  name = 'Parente com autismo')\n",
    "\n",
    "data3 = [trace_psa,trace_pca]\n",
    "\n",
    "layout2 = go.Layout(barmode = 'group')\n",
    "\n",
    "fig2 = go.Figure(data=data3, layout = layout2)\n",
    "\n",
    "py.iplot(fig2)"
   ]
  },
  {
   "cell_type": "markdown",
   "metadata": {},
   "source": [
    "## Como o resultado do teste está relacionado com o autismo?"
   ]
  },
  {
   "cell_type": "code",
   "execution_count": 13,
   "metadata": {},
   "outputs": [
    {
     "data": {
      "application/vnd.plotly.v1+json": {
       "config": {
        "linkText": "Export to plot.ly",
        "plotlyServerURL": "https://plot.ly",
        "showLink": false
       },
       "data": [
        {
         "marker": {
          "color": "rgba(255, 0, 0, .9)",
          "size": 10
         },
         "mode": "markers",
         "name": "AUTISTA",
         "text": "YES",
         "type": "scatter",
         "uid": "626d43cf-b3ac-4123-ba2a-0f62d91a0207",
         "x": [
          10,
          7,
          8,
          9
         ],
         "y": [
          21,
          44,
          44,
          32
         ]
        },
        {
         "marker": {
          "color": "rgba(0, 0, 255, .9)",
          "size": 10
         },
         "mode": "markers",
         "name": "NÃO-AUTISTA",
         "text": "NO",
         "type": "scatter",
         "uid": "46109547-c743-496c-9416-882d53b0a402",
         "x": [
          5,
          4,
          3,
          2,
          1,
          6,
          0
         ],
         "y": [
          41,
          33,
          21,
          9,
          6,
          40,
          1
         ]
        }
       ],
       "layout": {
        "title": {
         "text": "Distribuição dos casos em função da pontuação no teste"
        },
        "xaxis": {
         "title": {
          "text": "Pontuação no Teste de Espectro Autista"
         }
        },
        "yaxis": {
         "title": {
          "text": "Quantidade de Casos"
         }
        }
       }
      },
      "text/html": [
       "<div>\n",
       "        \n",
       "        \n",
       "            <div id=\"4f34b8b4-d1f9-4dde-b7a4-427cbe467744\" class=\"plotly-graph-div\" style=\"height:525px; width:100%;\"></div>\n",
       "            <script type=\"text/javascript\">\n",
       "                require([\"plotly\"], function(Plotly) {\n",
       "                    window.PLOTLYENV=window.PLOTLYENV || {};\n",
       "                    window.PLOTLYENV.BASE_URL='https://plot.ly';\n",
       "                    \n",
       "                if (document.getElementById(\"4f34b8b4-d1f9-4dde-b7a4-427cbe467744\")) {\n",
       "                    Plotly.newPlot(\n",
       "                        '4f34b8b4-d1f9-4dde-b7a4-427cbe467744',\n",
       "                        [{\"marker\": {\"color\": \"rgba(255, 0, 0, .9)\", \"size\": 10}, \"mode\": \"markers\", \"name\": \"AUTISTA\", \"text\": \"YES\", \"type\": \"scatter\", \"uid\": \"626d43cf-b3ac-4123-ba2a-0f62d91a0207\", \"x\": [10, 7, 8, 9], \"y\": [21, 44, 44, 32]}, {\"marker\": {\"color\": \"rgba(0, 0, 255, .9)\", \"size\": 10}, \"mode\": \"markers\", \"name\": \"N\\u00c3O-AUTISTA\", \"text\": \"NO\", \"type\": \"scatter\", \"uid\": \"46109547-c743-496c-9416-882d53b0a402\", \"x\": [5, 4, 3, 2, 1, 6, 0], \"y\": [41, 33, 21, 9, 6, 40, 1]}],\n",
       "                        {\"title\": {\"text\": \"Distribui\\u00e7\\u00e3o dos casos em fun\\u00e7\\u00e3o da pontua\\u00e7\\u00e3o no teste\"}, \"xaxis\": {\"title\": {\"text\": \"Pontua\\u00e7\\u00e3o no Teste de Espectro Autista\"}}, \"yaxis\": {\"title\": {\"text\": \"Quantidade de Casos\"}}},\n",
       "                        {\"showLink\": false, \"linkText\": \"Export to plot.ly\", \"plotlyServerURL\": \"https://plot.ly\", \"responsive\": true}\n",
       "                    ).then(function(){\n",
       "                            \n",
       "var gd = document.getElementById('4f34b8b4-d1f9-4dde-b7a4-427cbe467744');\n",
       "var x = new MutationObserver(function (mutations, observer) {{\n",
       "        var display = window.getComputedStyle(gd).display;\n",
       "        if (!display || display === 'none') {{\n",
       "            console.log([gd, 'removed!']);\n",
       "            Plotly.purge(gd);\n",
       "            observer.disconnect();\n",
       "        }}\n",
       "}});\n",
       "\n",
       "// Listen for the removal of the full notebook cells\n",
       "var notebookContainer = gd.closest('#notebook-container');\n",
       "if (notebookContainer) {{\n",
       "    x.observe(notebookContainer, {childList: true});\n",
       "}}\n",
       "\n",
       "// Listen for the clearing of the current output cell\n",
       "var outputEl = gd.closest('.output');\n",
       "if (outputEl) {{\n",
       "    x.observe(outputEl, {childList: true});\n",
       "}}\n",
       "\n",
       "                        })\n",
       "                };\n",
       "                });\n",
       "            </script>\n",
       "        </div>"
      ]
     },
     "metadata": {},
     "output_type": "display_data"
    }
   ],
   "source": [
    "# reload file to avoid mutation stuff\n",
    "df = dataset.autism()\n",
    "d = {}\n",
    "for x, y in zip(df['result'], df['Class/ASD']):\n",
    "    k = (x, y)\n",
    "    v = d.setdefault(k, 0)\n",
    "    d[k] = v + 1\n",
    "\n",
    "def histogram(d, label, color, name=None):\n",
    "    c = 'rgba({0}, {1}, {2}, .9)'.format(*color)\n",
    "    return  go.Scatter(\n",
    "        x=[x for (x, l), y in d.items() if l == label], \n",
    "        y=[y for (x, l), y in d.items() if l == label], \n",
    "        name=name,\n",
    "        mode = 'markers',\n",
    "        marker = dict(size = 10,\n",
    "                      color = c),\n",
    "        text = label)\n",
    "\n",
    "\n",
    "# to save as html change iplot to plot\n",
    "py.iplot({\n",
    "\"data\": [\n",
    "    histogram(d, 'YES', (255, 0, 0), name=\"AUTISTA\"),\n",
    "    histogram(d, 'NO', (0, 0, 255), name=\"NÃO-AUTISTA\")\n",
    "],\n",
    "\"layout\": go.Layout(\n",
    "    title=\"Distribuição dos casos em função da pontuação no teste\",\n",
    "    xaxis=dict(title=\"Pontuação no Teste de Espectro Autista\"),\n",
    "    yaxis=dict(title=\"Quantidade de Casos\")\n",
    ")\n",
    "})"
   ]
  },
  {
   "cell_type": "markdown",
   "metadata": {},
   "source": [
    "# Matrix de Correlação\n",
    "* Como as variáveis comportamentais estão relacionadas com o autismo?\n",
    "* Como as variáveis de comportamento estão relacionadas entre si?"
   ]
  },
  {
   "cell_type": "code",
   "execution_count": 16,
   "metadata": {},
   "outputs": [
    {
     "data": {
      "text/plain": [
       "Text(0.5, 1.0, 'Matriz de Correlação')"
      ]
     },
     "execution_count": 16,
     "metadata": {},
     "output_type": "execute_result"
    },
    {
     "data": {
      "image/png": "[encoded data removed]",
      "text/plain": [
       "<Figure size 720x576 with 2 Axes>"
      ]
     },
     "metadata": {
      "needs_background": "light"
     },
     "output_type": "display_data"
    }
   ],
   "source": [
    "%matplotlib inline\n",
    "from matplotlib import pyplot as plt\n",
    "import seaborn as sns\n",
    "\n",
    "df['Class/ASD'] = df['Class/ASD'].apply(lambda x: 1 if x == 'YES' else 0)\n",
    "\n",
    "f, ax = plt.subplots(figsize=(10, 8))\n",
    "corr = df.corr()\n",
    "ax = sns.heatmap(corr, mask=np.zeros_like(corr, dtype=np.bool),\n",
    "            square=True, ax=ax)\n",
    "ax.set_title('Matriz de Correlação')"
   ]
  },
  {
   "cell_type": "code",
   "execution_count": null,
   "metadata": {},
   "outputs": [],
   "source": []
  }
 ],
 "metadata": {
  "kernelspec": {
   "display_name": "Python 3",
   "language": "python",
   "name": "python3"
  },
  "language_info": {
   "codemirror_mode": {
    "name": "ipython",
    "version": 3
   },
   "file_extension": ".py",
   "mimetype": "text/x-python",
   "name": "python",
   "nbconvert_exporter": "python",
   "pygments_lexer": "ipython3",
   "version": "3.7.1"
  }
 },
 "nbformat": 4,
 "nbformat_minor": 2
}
