{
 "cells": [
  {
   "cell_type": "markdown",
   "metadata": {},
   "source": [
    "## Pontos que seram analisados:\n",
    "* Nesse estudo, qual a proporção entre crianças do sexo M/F?\n",
    "* Qual foi o diagnostico das crianças separadas por sexo?\n",
    "* Quais os paises nesses estudo que tiveram maior número de autistas?\n",
    "* Quem possuia parentes com autismo,tem mais chance de ter autismo?\n",
    "\n",
    "Esses são os pontos que inicialmente serão analisados nesse estudo."
   ]
  },
  {
   "cell_type": "code",
   "execution_count": 1,
   "metadata": {},
   "outputs": [
    {
     "name": "stdout",
     "output_type": "stream",
     "text": [
      "Collecting plotly\n",
      "\u001b[?25l  Downloading https://files.pythonhosted.org/packages/fd/db/003b5cfbc710f4d4982440451185b952269e4080a57ae7e760a2ceb8ce0c/plotly-3.6.1-py2.py3-none-any.whl (38.6MB)\n",
      "\u001b[K    100% |████████████████████████████████| 38.6MB 103kB/s ta 0:00:01  0% |▏                               | 163kB 298kB/s eta 0:02:09    0% |▏                               | 266kB 772kB/s eta 0:00:50    1% |▍                               | 481kB 6.0MB/s eta 0:00:07    3% |█                               | 1.2MB 565kB/s eta 0:01:07    5% |█▊                              | 2.0MB 157kB/s eta 0:03:52    8% |██▊                             | 3.2MB 695kB/s eta 0:00:51    11% |███▋                            | 4.4MB 569kB/s eta 0:01:01    14% |████▋                           | 5.6MB 175kB/s eta 0:03:09    16% |█████▍                          | 6.5MB 909kB/s eta 0:00:36    16% |█████▍                          | 6.5MB 772kB/s eta 0:00:42    17% |█████▊                          | 6.9MB 761kB/s eta 0:00:42    19% |██████▍                         | 7.6MB 876kB/s eta 0:00:36    25% |████████                        | 9.7MB 1.1MB/s eta 0:00:26    26% |████████▋                       | 10.4MB 1.3MB/s eta 0:00:23    26% |████████▋                       | 10.4MB 927kB/s eta 0:00:31    27% |████████▊                       | 10.6MB 1.0MB/s eta 0:00:28    28% |█████████▏                      | 11.1MB 1.2MB/s eta 0:00:23    33% |██████████▋                     | 12.8MB 741kB/s eta 0:00:35    42% |█████████████▋                  | 16.5MB 730kB/s eta 0:00:31    44% |██████████████▎                 | 17.3MB 582kB/s eta 0:00:37    48% |███████████████▍                | 18.6MB 712kB/s eta 0:00:29    48% |███████████████▌                | 18.7MB 502kB/s eta 0:00:40    50% |████████████████▏               | 19.6MB 537kB/s eta 0:00:36    52% |████████████████▉               | 20.3MB 449kB/s eta 0:00:41    55% |█████████████████▉              | 21.5MB 554kB/s eta 0:00:31    57% |██████████████████▌             | 22.4MB 764kB/s eta 0:00:22    58% |██████████████████▊             | 22.6MB 768kB/s eta 0:00:21    59% |███████████████████▏            | 23.1MB 687kB/s eta 0:00:23    61% |███████████████████▊            | 23.8MB 453kB/s eta 0:00:33    62% |████████████████████            | 24.2MB 1.2MB/s eta 0:00:12    66% |█████████████████████▍          | 25.8MB 451kB/s eta 0:00:29    71% |███████████████████████         | 27.6MB 1.2MB/s eta 0:00:10    71% |███████████████████████         | 27.7MB 1.1MB/s eta 0:00:10    72% |███████████████████████▎        | 28.1MB 351kB/s eta 0:00:30    74% |███████████████████████▊        | 28.6MB 941kB/s eta 0:00:11    79% |█████████████████████████▍      | 30.6MB 625kB/s eta 0:00:13    79% |█████████████████████████▍      | 30.6MB 491kB/s eta 0:00:17    79% |█████████████████████████▍      | 30.7MB 794kB/s eta 0:00:10    79% |█████████████████████████▋      | 30.9MB 2.2MB/s eta 0:00:04    80% |█████████████████████████▊      | 31.0MB 742kB/s eta 0:00:11    80% |█████████████████████████▊      | 31.0MB 569kB/s eta 0:00:14    80% |██████████████████████████      | 31.3MB 638kB/s eta 0:00:12    81% |██████████████████████████      | 31.5MB 698kB/s eta 0:00:11    82% |██████████████████████████▎     | 31.7MB 463kB/s eta 0:00:15    94% |██████████████████████████████▍ | 36.6MB 1.1MB/s eta 0:00:02    94% |██████████████████████████████▍ | 36.6MB 1.3MB/s eta 0:00:02    95% |██████████████████████████████▍ | 36.7MB 1.1MB/s eta 0:00:02    98% |███████████████████████████████▌| 37.9MB 1.2MB/s eta 0:00:01    99% |███████████████████████████████▊| 38.2MB 1.2MB/s eta 0:00:01\n",
      "\u001b[?25hRequirement already satisfied: requests in /opt/conda/lib/python3.6/site-packages (from plotly) (2.21.0)\n",
      "Collecting retrying>=1.3.3 (from plotly)\n",
      "  Downloading https://files.pythonhosted.org/packages/44/ef/beae4b4ef80902f22e3af073397f079c96969c69b2c7d52a57ea9ae61c9d/retrying-1.3.3.tar.gz\n",
      "Requirement already satisfied: pytz in /opt/conda/lib/python3.6/site-packages (from plotly) (2018.9)\n",
      "Requirement already satisfied: six in /opt/conda/lib/python3.6/site-packages (from plotly) (1.12.0)\n",
      "Requirement already satisfied: decorator>=4.0.6 in /opt/conda/lib/python3.6/site-packages (from plotly) (4.3.2)\n",
      "Requirement already satisfied: nbformat>=4.2 in /opt/conda/lib/python3.6/site-packages (from plotly) (4.4.0)\n",
      "Requirement already satisfied: chardet<3.1.0,>=3.0.2 in /opt/conda/lib/python3.6/site-packages (from requests->plotly) (3.0.4)\n",
      "Requirement already satisfied: certifi>=2017.4.17 in /opt/conda/lib/python3.6/site-packages (from requests->plotly) (2018.11.29)\n",
      "Requirement already satisfied: idna<2.9,>=2.5 in /opt/conda/lib/python3.6/site-packages (from requests->plotly) (2.8)\n",
      "Requirement already satisfied: urllib3<1.25,>=1.21.1 in /opt/conda/lib/python3.6/site-packages (from requests->plotly) (1.24.1)\n",
      "Requirement already satisfied: ipython_genutils in /opt/conda/lib/python3.6/site-packages (from nbformat>=4.2->plotly) (0.2.0)\n",
      "Requirement already satisfied: traitlets>=4.1 in /opt/conda/lib/python3.6/site-packages (from nbformat>=4.2->plotly) (4.3.2)\n",
      "Requirement already satisfied: jsonschema!=2.5.0,>=2.4 in /opt/conda/lib/python3.6/site-packages (from nbformat>=4.2->plotly) (3.0.0a3)\n",
      "Requirement already satisfied: jupyter_core in /opt/conda/lib/python3.6/site-packages (from nbformat>=4.2->plotly) (4.4.0)\n",
      "Requirement already satisfied: attrs>=17.4.0 in /opt/conda/lib/python3.6/site-packages (from jsonschema!=2.5.0,>=2.4->nbformat>=4.2->plotly) (18.2.0)\n",
      "Requirement already satisfied: pyrsistent>=0.14.0 in /opt/conda/lib/python3.6/site-packages (from jsonschema!=2.5.0,>=2.4->nbformat>=4.2->plotly) (0.14.10)\n",
      "Building wheels for collected packages: retrying\n",
      "  Building wheel for retrying (setup.py) ... \u001b[?25ldone\n",
      "\u001b[?25h  Stored in directory: /home/jovyan/.cache/pip/wheels/d7/a9/33/acc7b709e2a35caa7d4cae442f6fe6fbf2c43f80823d46460c\n",
      "Successfully built retrying\n",
      "Installing collected packages: retrying, plotly\n",
      "Successfully installed plotly-3.6.1 retrying-1.3.3\n"
     ]
    }
   ],
   "source": [
    "# Instalando a biblioteca plotly\n",
    "!pip install plotly"
   ]
  },
  {
   "cell_type": "code",
   "execution_count": 2,
   "metadata": {},
   "outputs": [
    {
     "data": {
      "text/html": [
       "<script type=\"text/javascript\">window.PlotlyConfig = {MathJaxConfig: 'local'};</script><script type=\"text/javascript\">if (window.MathJax) {MathJax.Hub.Config({SVG: {font: \"STIX-Web\"}});}</script><script>requirejs.config({paths: { 'plotly': ['https://cdn.plot.ly/plotly-latest.min']},});if(!window._Plotly) {require(['plotly'],function(plotly) {window._Plotly=plotly;});}</script>"
      ],
      "text/vnd.plotly.v1+html": [
       "<script type=\"text/javascript\">window.PlotlyConfig = {MathJaxConfig: 'local'};</script><script type=\"text/javascript\">if (window.MathJax) {MathJax.Hub.Config({SVG: {font: \"STIX-Web\"}});}</script><script>requirejs.config({paths: { 'plotly': ['https://cdn.plot.ly/plotly-latest.min']},});if(!window._Plotly) {require(['plotly'],function(plotly) {window._Plotly=plotly;});}</script>"
      ]
     },
     "metadata": {},
     "output_type": "display_data"
    }
   ],
   "source": [
    "# Importando bibliotecas\n",
    "from asd import dataset\n",
    "import pandas as pd\n",
    "import numpy as np\n",
    "import plotly.offline as py\n",
    "import plotly.graph_objs as go\n",
    "py.init_notebook_mode(connected=True)"
   ]
  },
  {
   "cell_type": "code",
   "execution_count": 3,
   "metadata": {},
   "outputs": [
    {
     "data": {
      "text/html": [
       "<div>\n",
       "<style scoped>\n",
       "    .dataframe tbody tr th:only-of-type {\n",
       "        vertical-align: middle;\n",
       "    }\n",
       "\n",
       "    .dataframe tbody tr th {\n",
       "        vertical-align: top;\n",
       "    }\n",
       "\n",
       "    .dataframe thead th {\n",
       "        text-align: right;\n",
       "    }\n",
       "</style>\n",
       "<table border=\"1\" class=\"dataframe\">\n",
       "  <thead>\n",
       "    <tr style=\"text-align: right;\">\n",
       "      <th></th>\n",
       "      <th>A1_Score</th>\n",
       "      <th>A2_Score</th>\n",
       "      <th>A3_Score</th>\n",
       "      <th>A4_Score</th>\n",
       "      <th>A5_Score</th>\n",
       "      <th>A6_Score</th>\n",
       "      <th>A7_Score</th>\n",
       "      <th>A8_Score</th>\n",
       "      <th>A9_Score</th>\n",
       "      <th>A10_Score</th>\n",
       "      <th>...</th>\n",
       "      <th>gender</th>\n",
       "      <th>ethnicity</th>\n",
       "      <th>jundice</th>\n",
       "      <th>austim</th>\n",
       "      <th>contry_of_res</th>\n",
       "      <th>used_app_before</th>\n",
       "      <th>result</th>\n",
       "      <th>age_desc</th>\n",
       "      <th>relation</th>\n",
       "      <th>ClassASD</th>\n",
       "    </tr>\n",
       "    <tr>\n",
       "      <th>id</th>\n",
       "      <th></th>\n",
       "      <th></th>\n",
       "      <th></th>\n",
       "      <th></th>\n",
       "      <th></th>\n",
       "      <th></th>\n",
       "      <th></th>\n",
       "      <th></th>\n",
       "      <th></th>\n",
       "      <th></th>\n",
       "      <th></th>\n",
       "      <th></th>\n",
       "      <th></th>\n",
       "      <th></th>\n",
       "      <th></th>\n",
       "      <th></th>\n",
       "      <th></th>\n",
       "      <th></th>\n",
       "      <th></th>\n",
       "      <th></th>\n",
       "      <th></th>\n",
       "    </tr>\n",
       "  </thead>\n",
       "  <tbody>\n",
       "    <tr>\n",
       "      <th>1</th>\n",
       "      <td>1</td>\n",
       "      <td>1</td>\n",
       "      <td>0</td>\n",
       "      <td>0</td>\n",
       "      <td>1</td>\n",
       "      <td>1</td>\n",
       "      <td>0</td>\n",
       "      <td>1</td>\n",
       "      <td>0</td>\n",
       "      <td>0</td>\n",
       "      <td>...</td>\n",
       "      <td>m</td>\n",
       "      <td>Others</td>\n",
       "      <td>no</td>\n",
       "      <td>no</td>\n",
       "      <td>Jordan</td>\n",
       "      <td>no</td>\n",
       "      <td>5</td>\n",
       "      <td>4-11 years</td>\n",
       "      <td>Parent</td>\n",
       "      <td>NO</td>\n",
       "    </tr>\n",
       "    <tr>\n",
       "      <th>2</th>\n",
       "      <td>1</td>\n",
       "      <td>1</td>\n",
       "      <td>0</td>\n",
       "      <td>0</td>\n",
       "      <td>1</td>\n",
       "      <td>1</td>\n",
       "      <td>0</td>\n",
       "      <td>1</td>\n",
       "      <td>0</td>\n",
       "      <td>0</td>\n",
       "      <td>...</td>\n",
       "      <td>m</td>\n",
       "      <td>Middle Eastern</td>\n",
       "      <td>no</td>\n",
       "      <td>no</td>\n",
       "      <td>Jordan</td>\n",
       "      <td>no</td>\n",
       "      <td>5</td>\n",
       "      <td>4-11 years</td>\n",
       "      <td>Parent</td>\n",
       "      <td>NO</td>\n",
       "    </tr>\n",
       "    <tr>\n",
       "      <th>3</th>\n",
       "      <td>1</td>\n",
       "      <td>1</td>\n",
       "      <td>0</td>\n",
       "      <td>0</td>\n",
       "      <td>0</td>\n",
       "      <td>1</td>\n",
       "      <td>1</td>\n",
       "      <td>1</td>\n",
       "      <td>0</td>\n",
       "      <td>0</td>\n",
       "      <td>...</td>\n",
       "      <td>m</td>\n",
       "      <td>?</td>\n",
       "      <td>no</td>\n",
       "      <td>no</td>\n",
       "      <td>Jordan</td>\n",
       "      <td>yes</td>\n",
       "      <td>5</td>\n",
       "      <td>4-11 years</td>\n",
       "      <td>?</td>\n",
       "      <td>NO</td>\n",
       "    </tr>\n",
       "    <tr>\n",
       "      <th>4</th>\n",
       "      <td>0</td>\n",
       "      <td>1</td>\n",
       "      <td>0</td>\n",
       "      <td>0</td>\n",
       "      <td>1</td>\n",
       "      <td>1</td>\n",
       "      <td>0</td>\n",
       "      <td>0</td>\n",
       "      <td>0</td>\n",
       "      <td>1</td>\n",
       "      <td>...</td>\n",
       "      <td>f</td>\n",
       "      <td>?</td>\n",
       "      <td>yes</td>\n",
       "      <td>no</td>\n",
       "      <td>Jordan</td>\n",
       "      <td>no</td>\n",
       "      <td>4</td>\n",
       "      <td>4-11 years</td>\n",
       "      <td>?</td>\n",
       "      <td>NO</td>\n",
       "    </tr>\n",
       "    <tr>\n",
       "      <th>5</th>\n",
       "      <td>1</td>\n",
       "      <td>1</td>\n",
       "      <td>1</td>\n",
       "      <td>1</td>\n",
       "      <td>1</td>\n",
       "      <td>1</td>\n",
       "      <td>1</td>\n",
       "      <td>1</td>\n",
       "      <td>1</td>\n",
       "      <td>1</td>\n",
       "      <td>...</td>\n",
       "      <td>m</td>\n",
       "      <td>Others</td>\n",
       "      <td>yes</td>\n",
       "      <td>no</td>\n",
       "      <td>United States</td>\n",
       "      <td>no</td>\n",
       "      <td>10</td>\n",
       "      <td>4-11 years</td>\n",
       "      <td>Parent</td>\n",
       "      <td>YES</td>\n",
       "    </tr>\n",
       "  </tbody>\n",
       "</table>\n",
       "<p>5 rows × 21 columns</p>\n",
       "</div>"
      ],
      "text/plain": [
       "    A1_Score  A2_Score  A3_Score  A4_Score  A5_Score  A6_Score  A7_Score  \\\n",
       "id                                                                         \n",
       "1          1         1         0         0         1         1         0   \n",
       "2          1         1         0         0         1         1         0   \n",
       "3          1         1         0         0         0         1         1   \n",
       "4          0         1         0         0         1         1         0   \n",
       "5          1         1         1         1         1         1         1   \n",
       "\n",
       "    A8_Score  A9_Score  A10_Score   ...    gender        ethnicity jundice  \\\n",
       "id                                  ...                                      \n",
       "1          1         0          0   ...         m           Others      no   \n",
       "2          1         0          0   ...         m  Middle Eastern       no   \n",
       "3          1         0          0   ...         m                ?      no   \n",
       "4          0         0          1   ...         f                ?     yes   \n",
       "5          1         1          1   ...         m           Others     yes   \n",
       "\n",
       "   austim  contry_of_res used_app_before result    age_desc relation ClassASD  \n",
       "id                                                                             \n",
       "1      no         Jordan              no      5  4-11 years   Parent       NO  \n",
       "2      no         Jordan              no      5  4-11 years   Parent       NO  \n",
       "3      no         Jordan             yes      5  4-11 years        ?       NO  \n",
       "4      no         Jordan              no      4  4-11 years        ?       NO  \n",
       "5      no  United States              no     10  4-11 years   Parent      YES  \n",
       "\n",
       "[5 rows x 21 columns]"
      ]
     },
     "execution_count": 3,
     "metadata": {},
     "output_type": "execute_result"
    }
   ],
   "source": [
    "# Criando o dataframe\n",
    "df = dataset.autism()\n",
    "df.set_index('id',inplace = True)\n",
    "df.head()"
   ]
  },
  {
   "cell_type": "code",
   "execution_count": 4,
   "metadata": {},
   "outputs": [
    {
     "name": "stdout",
     "output_type": "stream",
     "text": [
      "<class 'pandas.core.frame.DataFrame'>\n",
      "Int64Index: 292 entries, 1 to 292\n",
      "Data columns (total 21 columns):\n",
      "A1_Score           292 non-null int64\n",
      "A2_Score           292 non-null int64\n",
      "A3_Score           292 non-null int64\n",
      "A4_Score           292 non-null int64\n",
      "A5_Score           292 non-null int64\n",
      "A6_Score           292 non-null int64\n",
      "A7_Score           292 non-null int64\n",
      "A8_Score           292 non-null int64\n",
      "A9_Score           292 non-null int64\n",
      "A10_Score          292 non-null int64\n",
      "age                292 non-null object\n",
      "gender             292 non-null object\n",
      "ethnicity          292 non-null object\n",
      "jundice            292 non-null object\n",
      "austim             292 non-null object\n",
      "contry_of_res      292 non-null object\n",
      "used_app_before    292 non-null object\n",
      "result             292 non-null int64\n",
      "age_desc           292 non-null object\n",
      "relation           292 non-null object\n",
      "ClassASD           292 non-null object\n",
      "dtypes: int64(11), object(10)\n",
      "memory usage: 50.2+ KB\n"
     ]
    }
   ],
   "source": [
    "# Informações sobre o dataframe\n",
    "df.info()"
   ]
  },
  {
   "cell_type": "markdown",
   "metadata": {},
   "source": [
    "### Proporção entre crianças do sexo M/F"
   ]
  },
  {
   "cell_type": "code",
   "execution_count": 5,
   "metadata": {},
   "outputs": [
    {
     "data": {
      "application/vnd.plotly.v1+json": {
       "config": {
        "linkText": "Export to plot.ly",
        "plotlyServerURL": "https://plot.ly",
        "showLink": false
       },
       "data": [
        {
         "type": "bar",
         "uid": "9d32d1b2-d26a-42d6-8952-c91bdaab288f",
         "x": [
          "m",
          "f"
         ],
         "y": [
          0.7123287671232876,
          0.2876712328767123
         ]
        }
       ],
       "layout": {
        "yaxis": {
         "tickformat": ".2%"
        }
       }
      },
      "text/html": [
       "<div id=\"d680298d-c397-4227-8fee-b15b30f09974\" style=\"height: 525px; width: 100%;\" class=\"plotly-graph-div\"></div><script type=\"text/javascript\">require([\"plotly\"], function(Plotly) { window.PLOTLYENV=window.PLOTLYENV || {};window.PLOTLYENV.BASE_URL=\"https://plot.ly\";Plotly.newPlot(\"d680298d-c397-4227-8fee-b15b30f09974\", [{\"x\": [\"m\", \"f\"], \"y\": [0.7123287671232876, 0.2876712328767123], \"type\": \"bar\", \"uid\": \"9d32d1b2-d26a-42d6-8952-c91bdaab288f\"}], {\"yaxis\": {\"tickformat\": \".2%\"}}, {\"showLink\": false, \"linkText\": \"Export to plot.ly\", \"plotlyServerURL\": \"https://plot.ly\"})});</script><script type=\"text/javascript\">window.addEventListener(\"resize\", function(){window._Plotly.Plots.resize(document.getElementById(\"d680298d-c397-4227-8fee-b15b30f09974\"));});</script>"
      ],
      "text/vnd.plotly.v1+html": [
       "<div id=\"d680298d-c397-4227-8fee-b15b30f09974\" style=\"height: 525px; width: 100%;\" class=\"plotly-graph-div\"></div><script type=\"text/javascript\">require([\"plotly\"], function(Plotly) { window.PLOTLYENV=window.PLOTLYENV || {};window.PLOTLYENV.BASE_URL=\"https://plot.ly\";Plotly.newPlot(\"d680298d-c397-4227-8fee-b15b30f09974\", [{\"x\": [\"m\", \"f\"], \"y\": [0.7123287671232876, 0.2876712328767123], \"type\": \"bar\", \"uid\": \"9d32d1b2-d26a-42d6-8952-c91bdaab288f\"}], {\"yaxis\": {\"tickformat\": \".2%\"}}, {\"showLink\": false, \"linkText\": \"Export to plot.ly\", \"plotlyServerURL\": \"https://plot.ly\"})});</script><script type=\"text/javascript\">window.addEventListener(\"resize\", function(){window._Plotly.Plots.resize(document.getElementById(\"d680298d-c397-4227-8fee-b15b30f09974\"));});</script>"
      ]
     },
     "metadata": {},
     "output_type": "display_data"
    }
   ],
   "source": [
    "# Valores em porcentagem\n",
    "y = np.array(df['gender'].value_counts())\n",
    "pery = list(y/sum(y))\n",
    "\n",
    "#Gráfico de comparação de amostras M/F\n",
    "\n",
    "data = [go.Bar(x = list(df['gender'].unique()),\n",
    "               y = pery)]\n",
    "\n",
    "layout = go.Layout(yaxis = dict(tickformat=\".2%\"))\n",
    "\n",
    "fig = go.Figure(data = data, layout = layout)\n",
    "\n",
    "py.iplot(fig)"
   ]
  },
  {
   "cell_type": "markdown",
   "metadata": {},
   "source": [
    "### Diagnostico das crianças"
   ]
  },
  {
   "cell_type": "code",
   "execution_count": 6,
   "metadata": {},
   "outputs": [
    {
     "data": {
      "application/vnd.plotly.v1+json": {
       "config": {
        "linkText": "Export to plot.ly",
        "plotlyServerURL": "https://plot.ly",
        "showLink": false
       },
       "data": [
        {
         "name": "Masculino",
         "type": "bar",
         "uid": "0815eab8-2189-49ed-8c44-5c57e19cc4a1",
         "x": [
          "No-Autism",
          "Autism"
         ],
         "y": [
          105,
          103
         ]
        },
        {
         "name": "Feminino",
         "type": "bar",
         "uid": "be6051b8-8d97-4e41-af47-3f08b952e36f",
         "x": [
          "No-Autism",
          "Autism"
         ],
         "y": [
          46,
          38
         ]
        }
       ],
       "layout": {
        "barmode": "group"
       }
      },
      "text/html": [
       "<div id=\"ffd6277e-934a-4b6a-afd4-78dd468fc4dc\" style=\"height: 525px; width: 100%;\" class=\"plotly-graph-div\"></div><script type=\"text/javascript\">require([\"plotly\"], function(Plotly) { window.PLOTLYENV=window.PLOTLYENV || {};window.PLOTLYENV.BASE_URL=\"https://plot.ly\";Plotly.newPlot(\"ffd6277e-934a-4b6a-afd4-78dd468fc4dc\", [{\"name\": \"Masculino\", \"x\": [\"No-Autism\", \"Autism\"], \"y\": [105, 103], \"type\": \"bar\", \"uid\": \"0815eab8-2189-49ed-8c44-5c57e19cc4a1\"}, {\"name\": \"Feminino\", \"x\": [\"No-Autism\", \"Autism\"], \"y\": [46, 38], \"type\": \"bar\", \"uid\": \"be6051b8-8d97-4e41-af47-3f08b952e36f\"}], {\"barmode\": \"group\"}, {\"showLink\": false, \"linkText\": \"Export to plot.ly\", \"plotlyServerURL\": \"https://plot.ly\"})});</script><script type=\"text/javascript\">window.addEventListener(\"resize\", function(){window._Plotly.Plots.resize(document.getElementById(\"ffd6277e-934a-4b6a-afd4-78dd468fc4dc\"));});</script>"
      ],
      "text/vnd.plotly.v1+html": [
       "<div id=\"ffd6277e-934a-4b6a-afd4-78dd468fc4dc\" style=\"height: 525px; width: 100%;\" class=\"plotly-graph-div\"></div><script type=\"text/javascript\">require([\"plotly\"], function(Plotly) { window.PLOTLYENV=window.PLOTLYENV || {};window.PLOTLYENV.BASE_URL=\"https://plot.ly\";Plotly.newPlot(\"ffd6277e-934a-4b6a-afd4-78dd468fc4dc\", [{\"name\": \"Masculino\", \"x\": [\"No-Autism\", \"Autism\"], \"y\": [105, 103], \"type\": \"bar\", \"uid\": \"0815eab8-2189-49ed-8c44-5c57e19cc4a1\"}, {\"name\": \"Feminino\", \"x\": [\"No-Autism\", \"Autism\"], \"y\": [46, 38], \"type\": \"bar\", \"uid\": \"be6051b8-8d97-4e41-af47-3f08b952e36f\"}], {\"barmode\": \"group\"}, {\"showLink\": false, \"linkText\": \"Export to plot.ly\", \"plotlyServerURL\": \"https://plot.ly\"})});</script><script type=\"text/javascript\">window.addEventListener(\"resize\", function(){window._Plotly.Plots.resize(document.getElementById(\"ffd6277e-934a-4b6a-afd4-78dd468fc4dc\"));});</script>"
      ]
     },
     "metadata": {},
     "output_type": "display_data"
    }
   ],
   "source": [
    "#Separando dataframe por sexo\n",
    "masc = df.query('gender == \"m\"')\n",
    "fem = df.query('gender == \"f\"')\n",
    "\n",
    "# Criando estrutura para armazenar Classe/ASD\n",
    "autismo_m = masc['ClassASD'].value_counts().to_dict()\n",
    "autismo_f = fem['ClassASD'].value_counts().to_dict()\n",
    "\n",
    "# Substituindo valores de classe NO -> NO-Autism, YES -> Autism\n",
    "\n",
    "new_x = [x for x in autismo_m.keys()]\n",
    "for i,v in enumerate(new_x):\n",
    "    if v == 'NO':\n",
    "        new_x[i] = v.replace('NO','No-Autism')\n",
    "    elif v == 'YES':\n",
    "        new_x[i] = v.replace('YES','Autism')\n",
    "\n",
    "# Gráfica de representação\n",
    "trace_m = go.Bar(x = new_x,\n",
    "                y = list(autismo_m.values()),\n",
    "                name = 'Masculino')\n",
    "\n",
    "trace_f = go.Bar(x = new_x,\n",
    "                y = list(autismo_f.values()),\n",
    "                name = 'Feminino')\n",
    "\n",
    "data1 = [trace_m,trace_f]\n",
    "\n",
    "layout1 = go.Layout(barmode = 'group')\n",
    "\n",
    "fig1 = go.Figure(data=data1, layout = layout1)\n",
    "\n",
    "py.iplot(fig1)"
   ]
  },
  {
   "cell_type": "markdown",
   "metadata": {},
   "source": [
    "### Países com maior incidencia de autismo no dataset"
   ]
  },
  {
   "cell_type": "code",
   "execution_count": 7,
   "metadata": {},
   "outputs": [
    {
     "data": {
      "application/vnd.plotly.v1+json": {
       "config": {
        "linkText": "Export to plot.ly",
        "plotlyServerURL": "https://plot.ly",
        "showLink": false
       },
       "data": [
        {
         "orientation": "h",
         "type": "bar",
         "uid": "3bf56cb2-d9a6-4efc-8b23-89b720b5d082",
         "x": [
          31,
          24,
          17,
          12,
          6
         ],
         "y": [
          "United States",
          "United Kingdom",
          "India",
          "Australia",
          "Egypt"
         ]
        }
       ],
       "layout": {}
      },
      "text/html": [
       "<div id=\"84156de6-9b4d-421b-a3d4-954793e5173f\" style=\"height: 525px; width: 100%;\" class=\"plotly-graph-div\"></div><script type=\"text/javascript\">require([\"plotly\"], function(Plotly) { window.PLOTLYENV=window.PLOTLYENV || {};window.PLOTLYENV.BASE_URL=\"https://plot.ly\";Plotly.newPlot(\"84156de6-9b4d-421b-a3d4-954793e5173f\", [{\"orientation\": \"h\", \"x\": [31, 24, 17, 12, 6], \"y\": [\"United States\", \"United Kingdom\", \"India\", \"Australia\", \"Egypt\"], \"type\": \"bar\", \"uid\": \"4a59ec79-da18-47ac-8cd3-66c0350b53f1\"}], {}, {\"showLink\": false, \"linkText\": \"Export to plot.ly\", \"plotlyServerURL\": \"https://plot.ly\"})});</script><script type=\"text/javascript\">window.addEventListener(\"resize\", function(){window._Plotly.Plots.resize(document.getElementById(\"84156de6-9b4d-421b-a3d4-954793e5173f\"));});</script>"
      ],
      "text/vnd.plotly.v1+html": [
       "<div id=\"84156de6-9b4d-421b-a3d4-954793e5173f\" style=\"height: 525px; width: 100%;\" class=\"plotly-graph-div\"></div><script type=\"text/javascript\">require([\"plotly\"], function(Plotly) { window.PLOTLYENV=window.PLOTLYENV || {};window.PLOTLYENV.BASE_URL=\"https://plot.ly\";Plotly.newPlot(\"84156de6-9b4d-421b-a3d4-954793e5173f\", [{\"orientation\": \"h\", \"x\": [31, 24, 17, 12, 6], \"y\": [\"United States\", \"United Kingdom\", \"India\", \"Australia\", \"Egypt\"], \"type\": \"bar\", \"uid\": \"4a59ec79-da18-47ac-8cd3-66c0350b53f1\"}], {}, {\"showLink\": false, \"linkText\": \"Export to plot.ly\", \"plotlyServerURL\": \"https://plot.ly\"})});</script><script type=\"text/javascript\">window.addEventListener(\"resize\", function(){window._Plotly.Plots.resize(document.getElementById(\"84156de6-9b4d-421b-a3d4-954793e5173f\"));});</script>"
      ]
     },
     "metadata": {},
     "output_type": "display_data"
    }
   ],
   "source": [
    "# Filtrando dataframe apenas para crianças autistas\n",
    "df_aut = df.query('ClassASD == \"YES\"')\n",
    "\n",
    "#Armazenando a quantidade em ordem crescente do número de autistas por paises.\n",
    "contry = df_aut['contry_of_res'].value_counts().sort_values(ascending = False)\n",
    "\n",
    "# COnstruindo o gráfico\n",
    "data2 = [go.Bar(x = contry[:5],\n",
    "                y = contry.index[:5],\n",
    "                orientation = 'h')]\n",
    "\n",
    "py.iplot(data2)"
   ]
  },
  {
   "cell_type": "markdown",
   "metadata": {},
   "source": [
    "### Herança genética do autismo"
   ]
  },
  {
   "cell_type": "code",
   "execution_count": 13,
   "metadata": {},
   "outputs": [],
   "source": [
    "### Em andamento"
   ]
  },
  {
   "cell_type": "code",
   "execution_count": null,
   "metadata": {},
   "outputs": [],
   "source": []
  }
 ],
 "metadata": {
  "kernelspec": {
   "display_name": "Python 3",
   "language": "python",
   "name": "python3"
  },
  "language_info": {
   "codemirror_mode": {
    "name": "ipython",
    "version": 3
   },
   "file_extension": ".py",
   "mimetype": "text/x-python",
   "name": "python",
   "nbconvert_exporter": "python",
   "pygments_lexer": "ipython3",
   "version": "3.6.7"
  }
 },
 "nbformat": 4,
 "nbformat_minor": 2
}
