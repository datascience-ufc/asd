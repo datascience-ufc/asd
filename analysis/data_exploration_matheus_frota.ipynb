{
 "cells": [
  {
   "cell_type": "markdown",
   "metadata": {},
   "source": [
    "## Pontos que seram analisados:\n",
    "* Nesse estudo, qual a proporção entre crianças do sexo M/F?\n",
    "* Qual foi o diagnostico das crianças separadas por sexo?\n",
    "* Quais os paises nesses estudo que tiveram maior número de autistas?\n",
    "* Quem possuia parentes com autismo,tem mais chance de ter autismo?\n",
    "\n",
    "Esses são os pontos que inicialmente serão analisados nesse estudo."
   ]
  },
  {
   "cell_type": "code",
   "execution_count": 1,
   "metadata": {},
   "outputs": [
    {
     "name": "stdout",
     "output_type": "stream",
     "text": [
      "Collecting plotly\n",
      "\u001b[?25l  Downloading https://files.pythonhosted.org/packages/fd/db/003b5cfbc710f4d4982440451185b952269e4080a57ae7e760a2ceb8ce0c/plotly-3.6.1-py2.py3-none-any.whl (38.6MB)\n",
      "\u001b[K    100% |████████████████████████████████| 38.6MB 1.3MB/s eta 0:00:01   23% |███████▍                        | 9.0MB 11.3MB/s eta 0:00:03    44% |██████████████▎                 | 17.2MB 10.2MB/s eta 0:00:03\n",
      "\u001b[?25hRequirement already satisfied: six in /opt/conda/lib/python3.6/site-packages (from plotly) (1.12.0)\n",
      "Requirement already satisfied: nbformat>=4.2 in /opt/conda/lib/python3.6/site-packages (from plotly) (4.4.0)\n",
      "Requirement already satisfied: decorator>=4.0.6 in /opt/conda/lib/python3.6/site-packages (from plotly) (4.3.0)\n",
      "Requirement already satisfied: requests in /opt/conda/lib/python3.6/site-packages (from plotly) (2.21.0)\n",
      "Collecting retrying>=1.3.3 (from plotly)\n",
      "  Downloading https://files.pythonhosted.org/packages/44/ef/beae4b4ef80902f22e3af073397f079c96969c69b2c7d52a57ea9ae61c9d/retrying-1.3.3.tar.gz\n",
      "Requirement already satisfied: pytz in /opt/conda/lib/python3.6/site-packages (from plotly) (2018.9)\n",
      "Requirement already satisfied: ipython_genutils in /opt/conda/lib/python3.6/site-packages (from nbformat>=4.2->plotly) (0.2.0)\n",
      "Requirement already satisfied: traitlets>=4.1 in /opt/conda/lib/python3.6/site-packages (from nbformat>=4.2->plotly) (4.3.2)\n",
      "Requirement already satisfied: jsonschema!=2.5.0,>=2.4 in /opt/conda/lib/python3.6/site-packages (from nbformat>=4.2->plotly) (3.0.0a3)\n",
      "Requirement already satisfied: jupyter_core in /opt/conda/lib/python3.6/site-packages (from nbformat>=4.2->plotly) (4.4.0)\n",
      "Requirement already satisfied: urllib3<1.25,>=1.21.1 in /opt/conda/lib/python3.6/site-packages (from requests->plotly) (1.24.1)\n",
      "Requirement already satisfied: certifi>=2017.4.17 in /opt/conda/lib/python3.6/site-packages (from requests->plotly) (2018.11.29)\n",
      "Requirement already satisfied: idna<2.9,>=2.5 in /opt/conda/lib/python3.6/site-packages (from requests->plotly) (2.8)\n",
      "Requirement already satisfied: chardet<3.1.0,>=3.0.2 in /opt/conda/lib/python3.6/site-packages (from requests->plotly) (3.0.4)\n",
      "Requirement already satisfied: attrs>=17.4.0 in /opt/conda/lib/python3.6/site-packages (from jsonschema!=2.5.0,>=2.4->nbformat>=4.2->plotly) (18.2.0)\n",
      "Requirement already satisfied: pyrsistent>=0.14.0 in /opt/conda/lib/python3.6/site-packages (from jsonschema!=2.5.0,>=2.4->nbformat>=4.2->plotly) (0.14.9)\n",
      "Building wheels for collected packages: retrying\n",
      "  Running setup.py bdist_wheel for retrying ... \u001b[?25ldone\n",
      "\u001b[?25h  Stored in directory: /home/jovyan/.cache/pip/wheels/d7/a9/33/acc7b709e2a35caa7d4cae442f6fe6fbf2c43f80823d46460c\n",
      "Successfully built retrying\n",
      "Installing collected packages: retrying, plotly\n",
      "Successfully installed plotly-3.6.1 retrying-1.3.3\n"
     ]
    }
   ],
   "source": [
    "# Instalando a biblioteca plotly\n",
    "!pip install plotly"
   ]
  },
  {
   "cell_type": "code",
   "execution_count": 2,
   "metadata": {},
   "outputs": [
    {
     "data": {
      "text/html": [
       "<script type=\"text/javascript\">window.PlotlyConfig = {MathJaxConfig: 'local'};</script><script type=\"text/javascript\">if (window.MathJax) {MathJax.Hub.Config({SVG: {font: \"STIX-Web\"}});}</script><script>requirejs.config({paths: { 'plotly': ['https://cdn.plot.ly/plotly-latest.min']},});if(!window._Plotly) {require(['plotly'],function(plotly) {window._Plotly=plotly;});}</script>"
      ],
      "text/vnd.plotly.v1+html": [
       "<script type=\"text/javascript\">window.PlotlyConfig = {MathJaxConfig: 'local'};</script><script type=\"text/javascript\">if (window.MathJax) {MathJax.Hub.Config({SVG: {font: \"STIX-Web\"}});}</script><script>requirejs.config({paths: { 'plotly': ['https://cdn.plot.ly/plotly-latest.min']},});if(!window._Plotly) {require(['plotly'],function(plotly) {window._Plotly=plotly;});}</script>"
      ]
     },
     "metadata": {},
     "output_type": "display_data"
    }
   ],
   "source": [
    "# Importando bibliotecas\n",
    "from asd import dataset\n",
    "import pandas as pd\n",
    "import numpy as np\n",
    "import plotly.offline as py\n",
    "import plotly.graph_objs as go\n",
    "py.init_notebook_mode(connected=True)"
   ]
  },
  {
   "cell_type": "code",
   "execution_count": 4,
   "metadata": {},
   "outputs": [
    {
     "data": {
      "text/html": [
       "<div>\n",
       "<style scoped>\n",
       "    .dataframe tbody tr th:only-of-type {\n",
       "        vertical-align: middle;\n",
       "    }\n",
       "\n",
       "    .dataframe tbody tr th {\n",
       "        vertical-align: top;\n",
       "    }\n",
       "\n",
       "    .dataframe thead th {\n",
       "        text-align: right;\n",
       "    }\n",
       "</style>\n",
       "<table border=\"1\" class=\"dataframe\">\n",
       "  <thead>\n",
       "    <tr style=\"text-align: right;\">\n",
       "      <th></th>\n",
       "      <th>A1_Score</th>\n",
       "      <th>A2_Score</th>\n",
       "      <th>A3_Score</th>\n",
       "      <th>A4_Score</th>\n",
       "      <th>A5_Score</th>\n",
       "      <th>A6_Score</th>\n",
       "      <th>A7_Score</th>\n",
       "      <th>A8_Score</th>\n",
       "      <th>A9_Score</th>\n",
       "      <th>A10_Score</th>\n",
       "      <th>...</th>\n",
       "      <th>gender</th>\n",
       "      <th>ethnicity</th>\n",
       "      <th>jundice</th>\n",
       "      <th>austim</th>\n",
       "      <th>contry_of_res</th>\n",
       "      <th>used_app_before</th>\n",
       "      <th>result</th>\n",
       "      <th>age_desc</th>\n",
       "      <th>relation</th>\n",
       "      <th>Class/ASD</th>\n",
       "    </tr>\n",
       "    <tr>\n",
       "      <th>id</th>\n",
       "      <th></th>\n",
       "      <th></th>\n",
       "      <th></th>\n",
       "      <th></th>\n",
       "      <th></th>\n",
       "      <th></th>\n",
       "      <th></th>\n",
       "      <th></th>\n",
       "      <th></th>\n",
       "      <th></th>\n",
       "      <th></th>\n",
       "      <th></th>\n",
       "      <th></th>\n",
       "      <th></th>\n",
       "      <th></th>\n",
       "      <th></th>\n",
       "      <th></th>\n",
       "      <th></th>\n",
       "      <th></th>\n",
       "      <th></th>\n",
       "      <th></th>\n",
       "    </tr>\n",
       "  </thead>\n",
       "  <tbody>\n",
       "    <tr>\n",
       "      <th>1</th>\n",
       "      <td>1</td>\n",
       "      <td>1</td>\n",
       "      <td>0</td>\n",
       "      <td>0</td>\n",
       "      <td>1</td>\n",
       "      <td>1</td>\n",
       "      <td>0</td>\n",
       "      <td>1</td>\n",
       "      <td>0</td>\n",
       "      <td>0</td>\n",
       "      <td>...</td>\n",
       "      <td>m</td>\n",
       "      <td>Others</td>\n",
       "      <td>no</td>\n",
       "      <td>no</td>\n",
       "      <td>Jordan</td>\n",
       "      <td>no</td>\n",
       "      <td>5</td>\n",
       "      <td>4-11 years</td>\n",
       "      <td>Parent</td>\n",
       "      <td>NO</td>\n",
       "    </tr>\n",
       "    <tr>\n",
       "      <th>2</th>\n",
       "      <td>1</td>\n",
       "      <td>1</td>\n",
       "      <td>0</td>\n",
       "      <td>0</td>\n",
       "      <td>1</td>\n",
       "      <td>1</td>\n",
       "      <td>0</td>\n",
       "      <td>1</td>\n",
       "      <td>0</td>\n",
       "      <td>0</td>\n",
       "      <td>...</td>\n",
       "      <td>m</td>\n",
       "      <td>Middle Eastern</td>\n",
       "      <td>no</td>\n",
       "      <td>no</td>\n",
       "      <td>Jordan</td>\n",
       "      <td>no</td>\n",
       "      <td>5</td>\n",
       "      <td>4-11 years</td>\n",
       "      <td>Parent</td>\n",
       "      <td>NO</td>\n",
       "    </tr>\n",
       "    <tr>\n",
       "      <th>3</th>\n",
       "      <td>1</td>\n",
       "      <td>1</td>\n",
       "      <td>0</td>\n",
       "      <td>0</td>\n",
       "      <td>0</td>\n",
       "      <td>1</td>\n",
       "      <td>1</td>\n",
       "      <td>1</td>\n",
       "      <td>0</td>\n",
       "      <td>0</td>\n",
       "      <td>...</td>\n",
       "      <td>m</td>\n",
       "      <td>?</td>\n",
       "      <td>no</td>\n",
       "      <td>no</td>\n",
       "      <td>Jordan</td>\n",
       "      <td>yes</td>\n",
       "      <td>5</td>\n",
       "      <td>4-11 years</td>\n",
       "      <td>?</td>\n",
       "      <td>NO</td>\n",
       "    </tr>\n",
       "    <tr>\n",
       "      <th>4</th>\n",
       "      <td>0</td>\n",
       "      <td>1</td>\n",
       "      <td>0</td>\n",
       "      <td>0</td>\n",
       "      <td>1</td>\n",
       "      <td>1</td>\n",
       "      <td>0</td>\n",
       "      <td>0</td>\n",
       "      <td>0</td>\n",
       "      <td>1</td>\n",
       "      <td>...</td>\n",
       "      <td>f</td>\n",
       "      <td>?</td>\n",
       "      <td>yes</td>\n",
       "      <td>no</td>\n",
       "      <td>Jordan</td>\n",
       "      <td>no</td>\n",
       "      <td>4</td>\n",
       "      <td>4-11 years</td>\n",
       "      <td>?</td>\n",
       "      <td>NO</td>\n",
       "    </tr>\n",
       "    <tr>\n",
       "      <th>5</th>\n",
       "      <td>1</td>\n",
       "      <td>1</td>\n",
       "      <td>1</td>\n",
       "      <td>1</td>\n",
       "      <td>1</td>\n",
       "      <td>1</td>\n",
       "      <td>1</td>\n",
       "      <td>1</td>\n",
       "      <td>1</td>\n",
       "      <td>1</td>\n",
       "      <td>...</td>\n",
       "      <td>m</td>\n",
       "      <td>Others</td>\n",
       "      <td>yes</td>\n",
       "      <td>no</td>\n",
       "      <td>United States</td>\n",
       "      <td>no</td>\n",
       "      <td>10</td>\n",
       "      <td>4-11 years</td>\n",
       "      <td>Parent</td>\n",
       "      <td>YES</td>\n",
       "    </tr>\n",
       "  </tbody>\n",
       "</table>\n",
       "<p>5 rows × 21 columns</p>\n",
       "</div>"
      ],
      "text/plain": [
       "    A1_Score  A2_Score  A3_Score  A4_Score  A5_Score  A6_Score  A7_Score  \\\n",
       "id                                                                         \n",
       "1          1         1         0         0         1         1         0   \n",
       "2          1         1         0         0         1         1         0   \n",
       "3          1         1         0         0         0         1         1   \n",
       "4          0         1         0         0         1         1         0   \n",
       "5          1         1         1         1         1         1         1   \n",
       "\n",
       "    A8_Score  A9_Score  A10_Score    ...    gender        ethnicity jundice  \\\n",
       "id                                   ...                                      \n",
       "1          1         0          0    ...         m           Others      no   \n",
       "2          1         0          0    ...         m  Middle Eastern       no   \n",
       "3          1         0          0    ...         m                ?      no   \n",
       "4          0         0          1    ...         f                ?     yes   \n",
       "5          1         1          1    ...         m           Others     yes   \n",
       "\n",
       "   austim  contry_of_res used_app_before result    age_desc relation Class/ASD  \n",
       "id                                                                              \n",
       "1      no         Jordan              no      5  4-11 years   Parent        NO  \n",
       "2      no         Jordan              no      5  4-11 years   Parent        NO  \n",
       "3      no         Jordan             yes      5  4-11 years        ?        NO  \n",
       "4      no         Jordan              no      4  4-11 years        ?        NO  \n",
       "5      no  United States              no     10  4-11 years   Parent       YES  \n",
       "\n",
       "[5 rows x 21 columns]"
      ]
     },
     "execution_count": 4,
     "metadata": {},
     "output_type": "execute_result"
    }
   ],
   "source": [
    "# Criando o dataframe\n",
    "df = dataset.autism()\n",
    "df.set_index('id',inplace = True)\n",
    "df.head()"
   ]
  },
  {
   "cell_type": "code",
   "execution_count": 5,
   "metadata": {},
   "outputs": [
    {
     "name": "stdout",
     "output_type": "stream",
     "text": [
      "<class 'pandas.core.frame.DataFrame'>\n",
      "Int64Index: 292 entries, 1 to 292\n",
      "Data columns (total 21 columns):\n",
      "A1_Score           292 non-null int64\n",
      "A2_Score           292 non-null int64\n",
      "A3_Score           292 non-null int64\n",
      "A4_Score           292 non-null int64\n",
      "A5_Score           292 non-null int64\n",
      "A6_Score           292 non-null int64\n",
      "A7_Score           292 non-null int64\n",
      "A8_Score           292 non-null int64\n",
      "A9_Score           292 non-null int64\n",
      "A10_Score          292 non-null int64\n",
      "age                292 non-null object\n",
      "gender             292 non-null object\n",
      "ethnicity          292 non-null object\n",
      "jundice            292 non-null object\n",
      "austim             292 non-null object\n",
      "contry_of_res      292 non-null object\n",
      "used_app_before    292 non-null object\n",
      "result             292 non-null int64\n",
      "age_desc           292 non-null object\n",
      "relation           292 non-null object\n",
      "Class/ASD          292 non-null object\n",
      "dtypes: int64(11), object(10)\n",
      "memory usage: 50.2+ KB\n"
     ]
    }
   ],
   "source": [
    "# Informações sobre o dataframe\n",
    "df.info()"
   ]
  },
  {
   "cell_type": "code",
   "execution_count": 11,
   "metadata": {},
   "outputs": [
    {
     "name": "stdout",
     "output_type": "stream",
     "text": [
      "[208, 84]\n"
     ]
    },
    {
     "data": {
      "text/plain": [
       "['71.23%', '28.77%']"
      ]
     },
     "execution_count": 11,
     "metadata": {},
     "output_type": "execute_result"
    }
   ],
   "source": [
    "# Função para conversão de valores em porcentagem\n",
    "def porcentagem(x):\n",
    "    x = np.array(x)\n",
    "    p = (x/sum(x))*100\n",
    "    p_m = ['{}%'.format(round(i,2)) for i in p]\n",
    "    return p_m\n",
    "x = df['gender'].value_counts()\n",
    "test = porcentagem(x)\n",
    "print(list(x))\n",
    "test"
   ]
  },
  {
   "cell_type": "markdown",
   "metadata": {},
   "source": [
    "### Proporção entre crianças do sexo M/F"
   ]
  },
  {
   "cell_type": "code",
   "execution_count": 7,
   "metadata": {},
   "outputs": [
    {
     "data": {
      "application/vnd.plotly.v1+json": {
       "config": {
        "linkText": "Export to plot.ly",
        "plotlyServerURL": "https://plot.ly",
        "showLink": false
       },
       "data": [
        {
         "text": [
          "71.23%",
          "28.77%"
         ],
         "textposition": "auto",
         "type": "bar",
         "uid": "87577858-c38c-4fcb-afae-9bcc2b298a44",
         "x": [
          "m",
          "f"
         ],
         "y": [
          208,
          84
         ]
        }
       ],
       "layout": {}
      },
      "text/html": [
       "<div id=\"5b3f5323-a424-49e0-8c72-95c17ae8a0ea\" style=\"height: 525px; width: 100%;\" class=\"plotly-graph-div\"></div><script type=\"text/javascript\">require([\"plotly\"], function(Plotly) { window.PLOTLYENV=window.PLOTLYENV || {};window.PLOTLYENV.BASE_URL=\"https://plot.ly\";Plotly.newPlot(\"5b3f5323-a424-49e0-8c72-95c17ae8a0ea\", [{\"text\": [\"71.23%\", \"28.77%\"], \"textposition\": \"auto\", \"x\": [\"m\", \"f\"], \"y\": [208, 84], \"type\": \"bar\", \"uid\": \"87577858-c38c-4fcb-afae-9bcc2b298a44\"}], {}, {\"showLink\": false, \"linkText\": \"Export to plot.ly\", \"plotlyServerURL\": \"https://plot.ly\"})});</script><script type=\"text/javascript\">window.addEventListener(\"resize\", function(){window._Plotly.Plots.resize(document.getElementById(\"5b3f5323-a424-49e0-8c72-95c17ae8a0ea\"));});</script>"
      ],
      "text/vnd.plotly.v1+html": [
       "<div id=\"5b3f5323-a424-49e0-8c72-95c17ae8a0ea\" style=\"height: 525px; width: 100%;\" class=\"plotly-graph-div\"></div><script type=\"text/javascript\">require([\"plotly\"], function(Plotly) { window.PLOTLYENV=window.PLOTLYENV || {};window.PLOTLYENV.BASE_URL=\"https://plot.ly\";Plotly.newPlot(\"5b3f5323-a424-49e0-8c72-95c17ae8a0ea\", [{\"text\": [\"71.23%\", \"28.77%\"], \"textposition\": \"auto\", \"x\": [\"m\", \"f\"], \"y\": [208, 84], \"type\": \"bar\", \"uid\": \"87577858-c38c-4fcb-afae-9bcc2b298a44\"}], {}, {\"showLink\": false, \"linkText\": \"Export to plot.ly\", \"plotlyServerURL\": \"https://plot.ly\"})});</script><script type=\"text/javascript\">window.addEventListener(\"resize\", function(){window._Plotly.Plots.resize(document.getElementById(\"5b3f5323-a424-49e0-8c72-95c17ae8a0ea\"));});</script>"
      ]
     },
     "metadata": {},
     "output_type": "display_data"
    }
   ],
   "source": [
    "#Gráfico de comparação de amostras M/F\n",
    "data = [go.Bar(x = list(df['gender'].unique()),\n",
    "               y = df['gender'].value_counts(),\n",
    "               text = porcentagem(df['gender'].value_counts()),\n",
    "               textposition = 'auto')]\n",
    "\n",
    "#layout = go.Layout(yaxis = dict(tickformat=\".2%\"))\n",
    "\n",
    "fig = go.Figure(data = data)\n",
    "\n",
    "py.iplot(fig)"
   ]
  },
  {
   "cell_type": "markdown",
   "metadata": {},
   "source": [
    "### Diagnóstico de autismo separado por sexo"
   ]
  },
  {
   "cell_type": "code",
   "execution_count": 13,
   "metadata": {},
   "outputs": [
    {
     "data": {
      "application/vnd.plotly.v1+json": {
       "config": {
        "linkText": "Export to plot.ly",
        "plotlyServerURL": "https://plot.ly",
        "showLink": false
       },
       "data": [
        {
         "name": "Masculino",
         "text": [
          "50.48%",
          "49.52%"
         ],
         "textposition": "auto",
         "type": "bar",
         "uid": "9cc00f13-ee5e-4aee-87cd-6aa3a1f729b2",
         "x": [
          "No-Autism",
          "Autism"
         ],
         "y": [
          105,
          103
         ]
        },
        {
         "name": "Feminino",
         "text": [
          "54.76%",
          "45.24%"
         ],
         "textposition": "auto",
         "type": "bar",
         "uid": "5cf5dc0b-f0ee-4276-95ce-693c80b307b1",
         "x": [
          "No-Autism",
          "Autism"
         ],
         "y": [
          46,
          38
         ]
        }
       ],
       "layout": {
        "barmode": "group"
       }
      },
      "text/html": [
       "<div id=\"4dcef945-e0a5-4020-8ed9-345d25887804\" style=\"height: 525px; width: 100%;\" class=\"plotly-graph-div\"></div><script type=\"text/javascript\">require([\"plotly\"], function(Plotly) { window.PLOTLYENV=window.PLOTLYENV || {};window.PLOTLYENV.BASE_URL=\"https://plot.ly\";Plotly.newPlot(\"4dcef945-e0a5-4020-8ed9-345d25887804\", [{\"name\": \"Masculino\", \"text\": [\"50.48%\", \"49.52%\"], \"textposition\": \"auto\", \"x\": [\"No-Autism\", \"Autism\"], \"y\": [105, 103], \"type\": \"bar\", \"uid\": \"9cc00f13-ee5e-4aee-87cd-6aa3a1f729b2\"}, {\"name\": \"Feminino\", \"text\": [\"54.76%\", \"45.24%\"], \"textposition\": \"auto\", \"x\": [\"No-Autism\", \"Autism\"], \"y\": [46, 38], \"type\": \"bar\", \"uid\": \"5cf5dc0b-f0ee-4276-95ce-693c80b307b1\"}], {\"barmode\": \"group\"}, {\"showLink\": false, \"linkText\": \"Export to plot.ly\", \"plotlyServerURL\": \"https://plot.ly\"})});</script><script type=\"text/javascript\">window.addEventListener(\"resize\", function(){window._Plotly.Plots.resize(document.getElementById(\"4dcef945-e0a5-4020-8ed9-345d25887804\"));});</script>"
      ],
      "text/vnd.plotly.v1+html": [
       "<div id=\"4dcef945-e0a5-4020-8ed9-345d25887804\" style=\"height: 525px; width: 100%;\" class=\"plotly-graph-div\"></div><script type=\"text/javascript\">require([\"plotly\"], function(Plotly) { window.PLOTLYENV=window.PLOTLYENV || {};window.PLOTLYENV.BASE_URL=\"https://plot.ly\";Plotly.newPlot(\"4dcef945-e0a5-4020-8ed9-345d25887804\", [{\"name\": \"Masculino\", \"text\": [\"50.48%\", \"49.52%\"], \"textposition\": \"auto\", \"x\": [\"No-Autism\", \"Autism\"], \"y\": [105, 103], \"type\": \"bar\", \"uid\": \"9cc00f13-ee5e-4aee-87cd-6aa3a1f729b2\"}, {\"name\": \"Feminino\", \"text\": [\"54.76%\", \"45.24%\"], \"textposition\": \"auto\", \"x\": [\"No-Autism\", \"Autism\"], \"y\": [46, 38], \"type\": \"bar\", \"uid\": \"5cf5dc0b-f0ee-4276-95ce-693c80b307b1\"}], {\"barmode\": \"group\"}, {\"showLink\": false, \"linkText\": \"Export to plot.ly\", \"plotlyServerURL\": \"https://plot.ly\"})});</script><script type=\"text/javascript\">window.addEventListener(\"resize\", function(){window._Plotly.Plots.resize(document.getElementById(\"4dcef945-e0a5-4020-8ed9-345d25887804\"));});</script>"
      ]
     },
     "metadata": {},
     "output_type": "display_data"
    }
   ],
   "source": [
    "#Separando dataframe por sexo\n",
    "masc = df.query('gender == \"m\"')\n",
    "fem = df.query('gender == \"f\"')\n",
    "\n",
    "# Criando estrutura para armazenar Classe/ASD\n",
    "autismo_m = masc['Class/ASD'].value_counts().to_dict()\n",
    "autismo_f = fem['Class/ASD'].value_counts().to_dict()\n",
    "\n",
    "# Substituindo valores de classe NO -> NO-Autism, YES -> Autism\n",
    "\n",
    "new_x = [x for x in autismo_m.keys()]\n",
    "for i,v in enumerate(new_x):\n",
    "    if v == 'NO':\n",
    "        new_x[i] = v.replace('NO','No-Autism')\n",
    "    elif v == 'YES':\n",
    "        new_x[i] = v.replace('YES','Autism')\n",
    "        \n",
    "# Gráfica de representação\n",
    "trace_m = go.Bar(x = new_x,\n",
    "                 y = list(autismo_m.values()),\n",
    "                 text = porcentagem(list(autismo_m.values())),\n",
    "                 textposition = 'auto',\n",
    "                 name = 'Masculino')\n",
    "\n",
    "trace_f = go.Bar(x = new_x,\n",
    "                 y = list(autismo_f.values()),\n",
    "                 text = porcentagem(list(autismo_f.values())),\n",
    "                 textposition = 'auto',\n",
    "                 name = 'Feminino')\n",
    "\n",
    "data1 = [trace_m,trace_f]\n",
    "\n",
    "layout1 = go.Layout(barmode = 'group')\n",
    "\n",
    "fig1 = go.Figure(data=data1, layout = layout1)\n",
    "\n",
    "py.iplot(fig1)"
   ]
  },
  {
   "cell_type": "markdown",
   "metadata": {},
   "source": [
    "### Os 5 países com maior incidencia de autismo no dataset\n"
   ]
  },
  {
   "cell_type": "code",
   "execution_count": 16,
   "metadata": {},
   "outputs": [
    {
     "data": {
      "application/vnd.plotly.v1+json": {
       "config": {
        "linkText": "Export to plot.ly",
        "plotlyServerURL": "https://plot.ly",
        "showLink": false
       },
       "data": [
        {
         "orientation": "h",
         "text": [
          "34.44%",
          "26.67%",
          "18.89%",
          "13.33%",
          "6.67%"
         ],
         "textposition": "auto",
         "type": "bar",
         "uid": "3205ce73-f136-4b0a-b5a0-cda5af2a4731",
         "x": [
          31,
          24,
          17,
          12,
          6
         ],
         "y": [
          "United States",
          "United Kingdom",
          "India",
          "Australia",
          "Egypt"
         ]
        }
       ],
       "layout": {}
      },
      "text/html": [
       "<div id=\"cc253c39-6f3a-48e2-9344-d9192a242bf2\" style=\"height: 525px; width: 100%;\" class=\"plotly-graph-div\"></div><script type=\"text/javascript\">require([\"plotly\"], function(Plotly) { window.PLOTLYENV=window.PLOTLYENV || {};window.PLOTLYENV.BASE_URL=\"https://plot.ly\";Plotly.newPlot(\"cc253c39-6f3a-48e2-9344-d9192a242bf2\", [{\"orientation\": \"h\", \"text\": [\"34.44%\", \"26.67%\", \"18.89%\", \"13.33%\", \"6.67%\"], \"textposition\": \"auto\", \"x\": [31, 24, 17, 12, 6], \"y\": [\"United States\", \"United Kingdom\", \"India\", \"Australia\", \"Egypt\"], \"type\": \"bar\", \"uid\": \"fde8e010-0b00-4e26-a851-8b0b45e257e6\"}], {}, {\"showLink\": false, \"linkText\": \"Export to plot.ly\", \"plotlyServerURL\": \"https://plot.ly\"})});</script><script type=\"text/javascript\">window.addEventListener(\"resize\", function(){window._Plotly.Plots.resize(document.getElementById(\"cc253c39-6f3a-48e2-9344-d9192a242bf2\"));});</script>"
      ],
      "text/vnd.plotly.v1+html": [
       "<div id=\"cc253c39-6f3a-48e2-9344-d9192a242bf2\" style=\"height: 525px; width: 100%;\" class=\"plotly-graph-div\"></div><script type=\"text/javascript\">require([\"plotly\"], function(Plotly) { window.PLOTLYENV=window.PLOTLYENV || {};window.PLOTLYENV.BASE_URL=\"https://plot.ly\";Plotly.newPlot(\"cc253c39-6f3a-48e2-9344-d9192a242bf2\", [{\"orientation\": \"h\", \"text\": [\"34.44%\", \"26.67%\", \"18.89%\", \"13.33%\", \"6.67%\"], \"textposition\": \"auto\", \"x\": [31, 24, 17, 12, 6], \"y\": [\"United States\", \"United Kingdom\", \"India\", \"Australia\", \"Egypt\"], \"type\": \"bar\", \"uid\": \"fde8e010-0b00-4e26-a851-8b0b45e257e6\"}], {}, {\"showLink\": false, \"linkText\": \"Export to plot.ly\", \"plotlyServerURL\": \"https://plot.ly\"})});</script><script type=\"text/javascript\">window.addEventListener(\"resize\", function(){window._Plotly.Plots.resize(document.getElementById(\"cc253c39-6f3a-48e2-9344-d9192a242bf2\"));});</script>"
      ]
     },
     "metadata": {},
     "output_type": "display_data"
    }
   ],
   "source": [
    "# Filtrando dataframe apenas para crianças autistas\n",
    "df_aut = df[df['Class/ASD'] == \"YES\"]\n",
    "\n",
    "#Armazenando a quantidade em ordem crescente do número de autistas por paises.\n",
    "contry = df_aut['contry_of_res'].value_counts().sort_values(ascending = False)\n",
    "\n",
    "# COnstruindo o gráfico\n",
    "data2 = [go.Bar(x = contry[:5],\n",
    "                y = contry.index[:5],\n",
    "                text = porcentagem(contry[:5]),\n",
    "                textposition = 'auto',\n",
    "                orientation = 'h')]\n",
    "\n",
    "py.iplot(data2)"
   ]
  },
  {
   "cell_type": "markdown",
   "metadata": {},
   "source": [
    "### Herança genética das crianças com autismo\n",
    "\n",
    "O fato de ter alguém com autismo na família pode indicar que outras pessoas nessa família teram autismo?"
   ]
  },
  {
   "cell_type": "code",
   "execution_count": 17,
   "metadata": {},
   "outputs": [
    {
     "data": {
      "application/vnd.plotly.v1+json": {
       "config": {
        "linkText": "Export to plot.ly",
        "plotlyServerURL": "https://plot.ly",
        "showLink": false
       },
       "data": [
        {
         "name": "Parente S/Autismo",
         "text": [
          "50.62%",
          "49.38%"
         ],
         "textposition": "auto",
         "type": "bar",
         "uid": "116c772e-2270-45c4-aeb0-4415dda5a2d4",
         "x": [
          "No-Autism",
          "Autism"
         ],
         "y": [
          123,
          120
         ]
        },
        {
         "name": "Parente C/Autismo",
         "text": [
          "57.14%",
          "42.86%"
         ],
         "textposition": "auto",
         "type": "bar",
         "uid": "7a5d8f73-dc14-416b-92e4-2db4778687da",
         "x": [
          "No-Autism",
          "Autism"
         ],
         "y": [
          28,
          21
         ]
        }
       ],
       "layout": {
        "barmode": "group"
       }
      },
      "text/html": [
       "<div id=\"fe0d6491-b8ae-4f5f-a906-11624239c1f8\" style=\"height: 525px; width: 100%;\" class=\"plotly-graph-div\"></div><script type=\"text/javascript\">require([\"plotly\"], function(Plotly) { window.PLOTLYENV=window.PLOTLYENV || {};window.PLOTLYENV.BASE_URL=\"https://plot.ly\";Plotly.newPlot(\"fe0d6491-b8ae-4f5f-a906-11624239c1f8\", [{\"name\": \"Parente S/Autismo\", \"text\": [\"50.62%\", \"49.38%\"], \"textposition\": \"auto\", \"x\": [\"No-Autism\", \"Autism\"], \"y\": [123, 120], \"type\": \"bar\", \"uid\": \"116c772e-2270-45c4-aeb0-4415dda5a2d4\"}, {\"name\": \"Parente C/Autismo\", \"text\": [\"57.14%\", \"42.86%\"], \"textposition\": \"auto\", \"x\": [\"No-Autism\", \"Autism\"], \"y\": [28, 21], \"type\": \"bar\", \"uid\": \"7a5d8f73-dc14-416b-92e4-2db4778687da\"}], {\"barmode\": \"group\"}, {\"showLink\": false, \"linkText\": \"Export to plot.ly\", \"plotlyServerURL\": \"https://plot.ly\"})});</script><script type=\"text/javascript\">window.addEventListener(\"resize\", function(){window._Plotly.Plots.resize(document.getElementById(\"fe0d6491-b8ae-4f5f-a906-11624239c1f8\"));});</script>"
      ],
      "text/vnd.plotly.v1+html": [
       "<div id=\"fe0d6491-b8ae-4f5f-a906-11624239c1f8\" style=\"height: 525px; width: 100%;\" class=\"plotly-graph-div\"></div><script type=\"text/javascript\">require([\"plotly\"], function(Plotly) { window.PLOTLYENV=window.PLOTLYENV || {};window.PLOTLYENV.BASE_URL=\"https://plot.ly\";Plotly.newPlot(\"fe0d6491-b8ae-4f5f-a906-11624239c1f8\", [{\"name\": \"Parente S/Autismo\", \"text\": [\"50.62%\", \"49.38%\"], \"textposition\": \"auto\", \"x\": [\"No-Autism\", \"Autism\"], \"y\": [123, 120], \"type\": \"bar\", \"uid\": \"116c772e-2270-45c4-aeb0-4415dda5a2d4\"}, {\"name\": \"Parente C/Autismo\", \"text\": [\"57.14%\", \"42.86%\"], \"textposition\": \"auto\", \"x\": [\"No-Autism\", \"Autism\"], \"y\": [28, 21], \"type\": \"bar\", \"uid\": \"7a5d8f73-dc14-416b-92e4-2db4778687da\"}], {\"barmode\": \"group\"}, {\"showLink\": false, \"linkText\": \"Export to plot.ly\", \"plotlyServerURL\": \"https://plot.ly\"})});</script><script type=\"text/javascript\">window.addEventListener(\"resize\", function(){window._Plotly.Plots.resize(document.getElementById(\"fe0d6491-b8ae-4f5f-a906-11624239c1f8\"));});</script>"
      ]
     },
     "metadata": {},
     "output_type": "display_data"
    }
   ],
   "source": [
    "# Agrupando casos de autismo em parentes com os pacientes analisados do dataset\n",
    "parentes = df.groupby('austim')['Class/ASD'].value_counts()\n",
    "\n",
    "# Criando gráfico para visualização\n",
    "trace_psa = go.Bar(x = new_x,\n",
    "                  y = list(parentes[:2]),\n",
    "                  text = porcentagem(list(parentes[:2])),\n",
    "                  textposition = 'auto',\n",
    "                  name = 'Parente S/Autismo')\n",
    "\n",
    "trace_pca = go.Bar(x = new_x,\n",
    "                  y = list(parentes[2:]),\n",
    "                  text = porcentagem(list(parentes[2:])),\n",
    "                  textposition = 'auto',\n",
    "                  name = 'Parente C/Autismo')\n",
    "\n",
    "data3 = [trace_psa,trace_pca]\n",
    "\n",
    "layout2 = go.Layout(barmode = 'group')\n",
    "\n",
    "fig2 = go.Figure(data=data3, layout = layout2)\n",
    "\n",
    "py.iplot(fig2)\n"
   ]
  },
  {
   "cell_type": "code",
   "execution_count": null,
   "metadata": {},
   "outputs": [],
   "source": []
  }
 ],
 "metadata": {
  "kernelspec": {
   "display_name": "Python 3",
   "language": "python",
   "name": "python3"
  },
  "language_info": {
   "codemirror_mode": {
    "name": "ipython",
    "version": 3
   },
   "file_extension": ".py",
   "mimetype": "text/x-python",
   "name": "python",
   "nbconvert_exporter": "python",
   "pygments_lexer": "ipython3",
   "version": "3.6.7"
  }
 },
 "nbformat": 4,
 "nbformat_minor": 2
}
