{
 "cells": [
  {
   "cell_type": "markdown",
   "metadata": {},
   "source": [
    "## Pontos que seram analisados:\n",
    "* Nesse estudo, qual a proporção entre crianças do sexo M/F?\n",
    "* Qual foi o diagnostico das crianças separadas por sexo?\n",
    "* Quais os paises nesses estudo que tiveram maior número de autistas?\n",
    "* Quem possuia parentes com autismo,tem mais chance de ter autismo?\n",
    "\n",
    "Esses são os pontos que inicialmente serão analisados nesse estudo."
   ]
  },
  {
   "cell_type": "code",
   "execution_count": 1,
   "metadata": {},
   "outputs": [
    {
     "name": "stdout",
     "output_type": "stream",
     "text": [
      "Collecting plotly\n",
      "\u001b[?25l  Downloading https://files.pythonhosted.org/packages/3c/7e/bafb51ecd654a16f593beceb8e4e4069e33fccf47a3d071e0ef9b821a694/plotly-3.9.0-py2.py3-none-any.whl (41.2MB)\n",
      "\u001b[K     |████████████████████████████████| 41.2MB 84kB/s  eta 0:00:01    |▋                               | 788kB 192kB/s eta 0:03:31     |▉                               | 1.0MB 21kB/s eta 0:31:39     |█▌                              | 2.0MB 192kB/s eta 0:03:25     |█▊                              | 2.3MB 299kB/s eta 0:02:10     |█████▏                          | 6.7MB 463kB/s eta 0:01:15     |██████████▍                     | 13.4MB 98kB/s eta 0:04:42     |██████████▋                     | 13.6MB 383kB/s eta 0:01:12     |███████████▎                    | 14.5MB 184kB/s eta 0:02:25     |███████████▍                    | 14.7MB 184kB/s eta 0:02:24     |████████████                    | 15.3MB 281kB/s eta 0:01:32     |██████████████████████▏         | 28.5MB 262kB/s eta 0:00:49     |██████████████████████▍         | 28.9MB 619kB/s eta 0:00:20     |██████████████████████▌         | 28.9MB 619kB/s eta 0:00:20     |████████████████████████▊       | 31.9MB 250kB/s eta 0:00:38     |███████████████████████████▋    | 35.5MB 153kB/s eta 0:00:37     |████████████████████████████    | 36.1MB 473kB/s eta 0:00:11     |████████████████████████████▏   | 36.2MB 473kB/s eta 0:00:11     |████████████████████████████▊   | 37.0MB 925kB/s eta 0:00:05\n",
      "\u001b[?25hRequirement already satisfied: decorator>=4.0.6 in /opt/conda/lib/python3.7/site-packages (from plotly) (4.4.0)\n",
      "Collecting retrying>=1.3.3 (from plotly)\n",
      "  Downloading https://files.pythonhosted.org/packages/44/ef/beae4b4ef80902f22e3af073397f079c96969c69b2c7d52a57ea9ae61c9d/retrying-1.3.3.tar.gz\n",
      "Requirement already satisfied: requests in /opt/conda/lib/python3.7/site-packages (from plotly) (2.21.0)\n",
      "Requirement already satisfied: nbformat>=4.2 in /opt/conda/lib/python3.7/site-packages (from plotly) (4.4.0)\n",
      "Requirement already satisfied: six in /opt/conda/lib/python3.7/site-packages (from plotly) (1.12.0)\n",
      "Requirement already satisfied: pytz in /opt/conda/lib/python3.7/site-packages (from plotly) (2019.1)\n",
      "Requirement already satisfied: idna<2.9,>=2.5 in /opt/conda/lib/python3.7/site-packages (from requests->plotly) (2.8)\n",
      "Requirement already satisfied: chardet<3.1.0,>=3.0.2 in /opt/conda/lib/python3.7/site-packages (from requests->plotly) (3.0.4)\n",
      "Requirement already satisfied: certifi>=2017.4.17 in /opt/conda/lib/python3.7/site-packages (from requests->plotly) (2019.3.9)\n",
      "Requirement already satisfied: urllib3<1.25,>=1.21.1 in /opt/conda/lib/python3.7/site-packages (from requests->plotly) (1.24.2)\n",
      "Requirement already satisfied: ipython_genutils in /opt/conda/lib/python3.7/site-packages (from nbformat>=4.2->plotly) (0.2.0)\n",
      "Requirement already satisfied: traitlets>=4.1 in /opt/conda/lib/python3.7/site-packages (from nbformat>=4.2->plotly) (4.3.2)\n",
      "Requirement already satisfied: jsonschema!=2.5.0,>=2.4 in /opt/conda/lib/python3.7/site-packages (from nbformat>=4.2->plotly) (3.0.1)\n",
      "Requirement already satisfied: jupyter_core in /opt/conda/lib/python3.7/site-packages (from nbformat>=4.2->plotly) (4.4.0)\n",
      "Requirement already satisfied: attrs>=17.4.0 in /opt/conda/lib/python3.7/site-packages (from jsonschema!=2.5.0,>=2.4->nbformat>=4.2->plotly) (19.1.0)\n",
      "Requirement already satisfied: pyrsistent>=0.14.0 in /opt/conda/lib/python3.7/site-packages (from jsonschema!=2.5.0,>=2.4->nbformat>=4.2->plotly) (0.15.2)\n",
      "Requirement already satisfied: setuptools in /opt/conda/lib/python3.7/site-packages (from jsonschema!=2.5.0,>=2.4->nbformat>=4.2->plotly) (41.0.1)\n",
      "Building wheels for collected packages: retrying\n",
      "  Building wheel for retrying (setup.py) ... \u001b[?25ldone\n",
      "\u001b[?25h  Stored in directory: /home/jovyan/.cache/pip/wheels/d7/a9/33/acc7b709e2a35caa7d4cae442f6fe6fbf2c43f80823d46460c\n",
      "Successfully built retrying\n",
      "Installing collected packages: retrying, plotly\n",
      "Successfully installed plotly-3.10.0 retrying-1.3.3\n"
     ]
    }
   ],
   "source": [
    "# Instalando a biblioteca plotly\n",
    "!pip install plotly"
   ]
  },
  {
   "cell_type": "code",
   "execution_count": 2,
   "metadata": {},
   "outputs": [
    {
     "data": {
      "text/html": [
       "        <script type=\"text/javascript\">\n",
       "        window.PlotlyConfig = {MathJaxConfig: 'local'};\n",
       "        if (window.MathJax) {MathJax.Hub.Config({SVG: {font: \"STIX-Web\"}});}\n",
       "        if (typeof require !== 'undefined') {\n",
       "        require.undef(\"plotly\");\n",
       "        requirejs.config({\n",
       "            paths: {\n",
       "                'plotly': ['https://cdn.plot.ly/plotly-latest.min']\n",
       "            }\n",
       "        });\n",
       "        require(['plotly'], function(Plotly) {\n",
       "            window._Plotly = Plotly;\n",
       "        });\n",
       "        }\n",
       "        </script>\n",
       "        "
      ]
     },
     "metadata": {},
     "output_type": "display_data"
    }
   ],
   "source": [
    "# Importando bibliotecas\n",
    "from asd import dataset\n",
    "import pandas as pd\n",
    "import numpy as np\n",
    "import plotly.offline as py\n",
    "import plotly.graph_objs as go\n",
    "py.init_notebook_mode(connected=True)"
   ]
  },
  {
   "cell_type": "code",
   "execution_count": 3,
   "metadata": {},
   "outputs": [
    {
     "data": {
      "text/html": [
       "<div>\n",
       "<style scoped>\n",
       "    .dataframe tbody tr th:only-of-type {\n",
       "        vertical-align: middle;\n",
       "    }\n",
       "\n",
       "    .dataframe tbody tr th {\n",
       "        vertical-align: top;\n",
       "    }\n",
       "\n",
       "    .dataframe thead th {\n",
       "        text-align: right;\n",
       "    }\n",
       "</style>\n",
       "<table border=\"1\" class=\"dataframe\">\n",
       "  <thead>\n",
       "    <tr style=\"text-align: right;\">\n",
       "      <th></th>\n",
       "      <th>A1_Score</th>\n",
       "      <th>A2_Score</th>\n",
       "      <th>A3_Score</th>\n",
       "      <th>A4_Score</th>\n",
       "      <th>A5_Score</th>\n",
       "      <th>A6_Score</th>\n",
       "      <th>A7_Score</th>\n",
       "      <th>A8_Score</th>\n",
       "      <th>A9_Score</th>\n",
       "      <th>A10_Score</th>\n",
       "      <th>...</th>\n",
       "      <th>gender</th>\n",
       "      <th>ethnicity</th>\n",
       "      <th>jundice</th>\n",
       "      <th>austim</th>\n",
       "      <th>contry_of_res</th>\n",
       "      <th>used_app_before</th>\n",
       "      <th>result</th>\n",
       "      <th>age_desc</th>\n",
       "      <th>relation</th>\n",
       "      <th>Class/ASD</th>\n",
       "    </tr>\n",
       "    <tr>\n",
       "      <th>id</th>\n",
       "      <th></th>\n",
       "      <th></th>\n",
       "      <th></th>\n",
       "      <th></th>\n",
       "      <th></th>\n",
       "      <th></th>\n",
       "      <th></th>\n",
       "      <th></th>\n",
       "      <th></th>\n",
       "      <th></th>\n",
       "      <th></th>\n",
       "      <th></th>\n",
       "      <th></th>\n",
       "      <th></th>\n",
       "      <th></th>\n",
       "      <th></th>\n",
       "      <th></th>\n",
       "      <th></th>\n",
       "      <th></th>\n",
       "      <th></th>\n",
       "      <th></th>\n",
       "    </tr>\n",
       "  </thead>\n",
       "  <tbody>\n",
       "    <tr>\n",
       "      <th>1</th>\n",
       "      <td>1</td>\n",
       "      <td>1</td>\n",
       "      <td>0</td>\n",
       "      <td>0</td>\n",
       "      <td>1</td>\n",
       "      <td>1</td>\n",
       "      <td>0</td>\n",
       "      <td>1</td>\n",
       "      <td>0</td>\n",
       "      <td>0</td>\n",
       "      <td>...</td>\n",
       "      <td>m</td>\n",
       "      <td>Others</td>\n",
       "      <td>no</td>\n",
       "      <td>no</td>\n",
       "      <td>Jordan</td>\n",
       "      <td>no</td>\n",
       "      <td>5</td>\n",
       "      <td>4-11 years</td>\n",
       "      <td>Parent</td>\n",
       "      <td>NO</td>\n",
       "    </tr>\n",
       "    <tr>\n",
       "      <th>2</th>\n",
       "      <td>1</td>\n",
       "      <td>1</td>\n",
       "      <td>0</td>\n",
       "      <td>0</td>\n",
       "      <td>1</td>\n",
       "      <td>1</td>\n",
       "      <td>0</td>\n",
       "      <td>1</td>\n",
       "      <td>0</td>\n",
       "      <td>0</td>\n",
       "      <td>...</td>\n",
       "      <td>m</td>\n",
       "      <td>Middle Eastern</td>\n",
       "      <td>no</td>\n",
       "      <td>no</td>\n",
       "      <td>Jordan</td>\n",
       "      <td>no</td>\n",
       "      <td>5</td>\n",
       "      <td>4-11 years</td>\n",
       "      <td>Parent</td>\n",
       "      <td>NO</td>\n",
       "    </tr>\n",
       "    <tr>\n",
       "      <th>3</th>\n",
       "      <td>1</td>\n",
       "      <td>1</td>\n",
       "      <td>0</td>\n",
       "      <td>0</td>\n",
       "      <td>0</td>\n",
       "      <td>1</td>\n",
       "      <td>1</td>\n",
       "      <td>1</td>\n",
       "      <td>0</td>\n",
       "      <td>0</td>\n",
       "      <td>...</td>\n",
       "      <td>m</td>\n",
       "      <td>?</td>\n",
       "      <td>no</td>\n",
       "      <td>no</td>\n",
       "      <td>Jordan</td>\n",
       "      <td>yes</td>\n",
       "      <td>5</td>\n",
       "      <td>4-11 years</td>\n",
       "      <td>?</td>\n",
       "      <td>NO</td>\n",
       "    </tr>\n",
       "    <tr>\n",
       "      <th>4</th>\n",
       "      <td>0</td>\n",
       "      <td>1</td>\n",
       "      <td>0</td>\n",
       "      <td>0</td>\n",
       "      <td>1</td>\n",
       "      <td>1</td>\n",
       "      <td>0</td>\n",
       "      <td>0</td>\n",
       "      <td>0</td>\n",
       "      <td>1</td>\n",
       "      <td>...</td>\n",
       "      <td>f</td>\n",
       "      <td>?</td>\n",
       "      <td>yes</td>\n",
       "      <td>no</td>\n",
       "      <td>Jordan</td>\n",
       "      <td>no</td>\n",
       "      <td>4</td>\n",
       "      <td>4-11 years</td>\n",
       "      <td>?</td>\n",
       "      <td>NO</td>\n",
       "    </tr>\n",
       "    <tr>\n",
       "      <th>5</th>\n",
       "      <td>1</td>\n",
       "      <td>1</td>\n",
       "      <td>1</td>\n",
       "      <td>1</td>\n",
       "      <td>1</td>\n",
       "      <td>1</td>\n",
       "      <td>1</td>\n",
       "      <td>1</td>\n",
       "      <td>1</td>\n",
       "      <td>1</td>\n",
       "      <td>...</td>\n",
       "      <td>m</td>\n",
       "      <td>Others</td>\n",
       "      <td>yes</td>\n",
       "      <td>no</td>\n",
       "      <td>United States</td>\n",
       "      <td>no</td>\n",
       "      <td>10</td>\n",
       "      <td>4-11 years</td>\n",
       "      <td>Parent</td>\n",
       "      <td>YES</td>\n",
       "    </tr>\n",
       "  </tbody>\n",
       "</table>\n",
       "<p>5 rows × 21 columns</p>\n",
       "</div>"
      ],
      "text/plain": [
       "    A1_Score  A2_Score  A3_Score  A4_Score  A5_Score  A6_Score  A7_Score  \\\n",
       "id                                                                         \n",
       "1          1         1         0         0         1         1         0   \n",
       "2          1         1         0         0         1         1         0   \n",
       "3          1         1         0         0         0         1         1   \n",
       "4          0         1         0         0         1         1         0   \n",
       "5          1         1         1         1         1         1         1   \n",
       "\n",
       "    A8_Score  A9_Score  A10_Score  ... gender        ethnicity jundice austim  \\\n",
       "id                                 ...                                          \n",
       "1          1         0          0  ...      m           Others      no     no   \n",
       "2          1         0          0  ...      m  Middle Eastern       no     no   \n",
       "3          1         0          0  ...      m                ?      no     no   \n",
       "4          0         0          1  ...      f                ?     yes     no   \n",
       "5          1         1          1  ...      m           Others     yes     no   \n",
       "\n",
       "    contry_of_res used_app_before result    age_desc relation Class/ASD  \n",
       "id                                                                       \n",
       "1          Jordan              no      5  4-11 years   Parent        NO  \n",
       "2          Jordan              no      5  4-11 years   Parent        NO  \n",
       "3          Jordan             yes      5  4-11 years        ?        NO  \n",
       "4          Jordan              no      4  4-11 years        ?        NO  \n",
       "5   United States              no     10  4-11 years   Parent       YES  \n",
       "\n",
       "[5 rows x 21 columns]"
      ]
     },
     "execution_count": 3,
     "metadata": {},
     "output_type": "execute_result"
    }
   ],
   "source": [
    "# Criando o dataframe\n",
    "df = dataset.autism()\n",
    "df.set_index('id',inplace = True)\n",
    "df.head()"
   ]
  },
  {
   "cell_type": "code",
   "execution_count": 4,
   "metadata": {
    "scrolled": false
   },
   "outputs": [
    {
     "name": "stdout",
     "output_type": "stream",
     "text": [
      "<class 'pandas.core.frame.DataFrame'>\n",
      "Int64Index: 292 entries, 1 to 292\n",
      "Data columns (total 21 columns):\n",
      "A1_Score           292 non-null int64\n",
      "A2_Score           292 non-null int64\n",
      "A3_Score           292 non-null int64\n",
      "A4_Score           292 non-null int64\n",
      "A5_Score           292 non-null int64\n",
      "A6_Score           292 non-null int64\n",
      "A7_Score           292 non-null int64\n",
      "A8_Score           292 non-null int64\n",
      "A9_Score           292 non-null int64\n",
      "A10_Score          292 non-null int64\n",
      "age                292 non-null object\n",
      "gender             292 non-null object\n",
      "ethnicity          292 non-null object\n",
      "jundice            292 non-null object\n",
      "austim             292 non-null object\n",
      "contry_of_res      292 non-null object\n",
      "used_app_before    292 non-null object\n",
      "result             292 non-null int64\n",
      "age_desc           292 non-null object\n",
      "relation           292 non-null object\n",
      "Class/ASD          292 non-null object\n",
      "dtypes: int64(11), object(10)\n",
      "memory usage: 50.2+ KB\n"
     ]
    }
   ],
   "source": [
    "# Informações sobre o dataframe\n",
    "df.info()"
   ]
  },
  {
   "cell_type": "code",
   "execution_count": 5,
   "metadata": {},
   "outputs": [
    {
     "name": "stdout",
     "output_type": "stream",
     "text": [
      "[208, 84]\n"
     ]
    },
    {
     "data": {
      "text/plain": [
       "['71.23%', '28.77%']"
      ]
     },
     "execution_count": 5,
     "metadata": {},
     "output_type": "execute_result"
    }
   ],
   "source": [
    "# Função para conversão de valores em porcentagem\n",
    "def porcentagem(x):\n",
    "    x = np.array(x)\n",
    "    p = (x/sum(x))*100\n",
    "    p_m = ['{}%'.format(round(i,2)) for i in p]\n",
    "    return p_m\n",
    "x = df['gender'].value_counts()\n",
    "test = porcentagem(x)\n",
    "print(list(x))\n",
    "test"
   ]
  },
  {
   "cell_type": "markdown",
   "metadata": {},
   "source": [
    "### Proporção entre crianças do sexo M/F"
   ]
  },
  {
   "cell_type": "code",
   "execution_count": 15,
   "metadata": {
    "scrolled": false
   },
   "outputs": [
    {
     "data": {
      "application/vnd.plotly.v1+json": {
       "config": {
        "linkText": "Export to plot.ly",
        "plotlyServerURL": "https://plot.ly",
        "responsive": true,
        "showLink": false
       },
       "data": [
        {
         "text": [
          "71.23%",
          "28.77%"
         ],
         "textposition": "auto",
         "type": "bar",
         "uid": "e084ccba-dc8c-47e3-85e5-ce81340c5130",
         "x": [
          "Masculino",
          "Feminino"
         ],
         "y": [
          208,
          84
         ]
        }
       ],
       "layout": {
        "title": {
         "text": "Distribuição masculino/feminino na amostra"
        },
        "xaxis": {
         "title": {
          "text": "Sexo"
         }
        },
        "yaxis": {
         "title": {
          "text": "Quantidade de crianças"
         }
        }
       }
      },
      "text/html": [
       "<div>\n",
       "        \n",
       "        \n",
       "            <div id=\"74cfc4cc-9845-45ce-9274-9147abce8fbe\" class=\"plotly-graph-div\" style=\"height:525px; width:100%;\"></div>\n",
       "            <script type=\"text/javascript\">\n",
       "                require([\"plotly\"], function(Plotly) {\n",
       "                    window.PLOTLYENV=window.PLOTLYENV || {};\n",
       "                    window.PLOTLYENV.BASE_URL='https://plot.ly';\n",
       "                    \n",
       "                if (document.getElementById(\"74cfc4cc-9845-45ce-9274-9147abce8fbe\")) {\n",
       "                    Plotly.newPlot(\n",
       "                        '74cfc4cc-9845-45ce-9274-9147abce8fbe',\n",
       "                        [{\"text\": [\"71.23%\", \"28.77%\"], \"textposition\": \"auto\", \"type\": \"bar\", \"uid\": \"e084ccba-dc8c-47e3-85e5-ce81340c5130\", \"x\": [\"Masculino\", \"Feminino\"], \"y\": [208, 84]}],\n",
       "                        {\"title\": {\"text\": \"Distribui\\u00e7\\u00e3o masculino/feminino na amostra\"}, \"xaxis\": {\"title\": {\"text\": \"Sexo\"}}, \"yaxis\": {\"title\": {\"text\": \"Quantidade de crian\\u00e7as\"}}},\n",
       "                        {\"showLink\": false, \"linkText\": \"Export to plot.ly\", \"plotlyServerURL\": \"https://plot.ly\", \"responsive\": true}\n",
       "                    ).then(function(){\n",
       "                            \n",
       "var gd = document.getElementById('74cfc4cc-9845-45ce-9274-9147abce8fbe');\n",
       "var x = new MutationObserver(function (mutations, observer) {{\n",
       "        var display = window.getComputedStyle(gd).display;\n",
       "        if (!display || display === 'none') {{\n",
       "            console.log([gd, 'removed!']);\n",
       "            Plotly.purge(gd);\n",
       "            observer.disconnect();\n",
       "        }}\n",
       "}});\n",
       "\n",
       "// Listen for the removal of the full notebook cells\n",
       "var notebookContainer = gd.closest('#notebook-container');\n",
       "if (notebookContainer) {{\n",
       "    x.observe(notebookContainer, {childList: true});\n",
       "}}\n",
       "\n",
       "// Listen for the clearing of the current output cell\n",
       "var outputEl = gd.closest('.output');\n",
       "if (outputEl) {{\n",
       "    x.observe(outputEl, {childList: true});\n",
       "}}\n",
       "\n",
       "                        })\n",
       "                };\n",
       "                });\n",
       "            </script>\n",
       "        </div>"
      ]
     },
     "metadata": {},
     "output_type": "display_data"
    }
   ],
   "source": [
    "from plotly.graph_objs import Layout\n",
    "\n",
    "#Gráfico de comparação de amostras M/F\n",
    "data = [go.Bar(x = ['Masculino','Feminino'],\n",
    "               y = df['gender'].value_counts(),\n",
    "               text = porcentagem(df['gender'].value_counts()),\n",
    "               textposition = 'auto')]\n",
    "\n",
    "#layout = go.Layout(yaxis = dict(tickformat=\".2%\"))\n",
    "\n",
    "py.iplot({\n",
    "\"data\": data,\n",
    "\"layout\": Layout(\n",
    "    title=\"Distribuição masculino/feminino na amostra\",\n",
    "    xaxis=dict(title=\"Sexo\"),\n",
    "    yaxis=dict(title=\"Quantidade de crianças\")\n",
    ")\n",
    "})\n"
   ]
  },
  {
   "cell_type": "markdown",
   "metadata": {},
   "source": [
    "### Diagnóstico de autismo separado por sexo"
   ]
  },
  {
   "cell_type": "code",
   "execution_count": 7,
   "metadata": {},
   "outputs": [
    {
     "data": {
      "application/vnd.plotly.v1+json": {
       "config": {
        "linkText": "Export to plot.ly",
        "plotlyServerURL": "https://plot.ly",
        "responsive": true,
        "showLink": false
       },
       "data": [
        {
         "name": "Masculino",
         "text": [
          "50.48%",
          "49.52%"
         ],
         "textposition": "auto",
         "type": "bar",
         "uid": "9480df77-e8d0-41d7-b5f0-2052a9bca82a",
         "x": [
          "No-Autism",
          "Autism"
         ],
         "y": [
          105,
          103
         ]
        }
       ],
       "layout": {
        "barmode": "group"
       }
      },
      "text/html": [
       "<div>\n",
       "        \n",
       "        \n",
       "            <div id=\"fe7b419d-b9bc-4a4c-8cd1-15d28f6ea95b\" class=\"plotly-graph-div\" style=\"height:525px; width:100%;\"></div>\n",
       "            <script type=\"text/javascript\">\n",
       "                require([\"plotly\"], function(Plotly) {\n",
       "                    window.PLOTLYENV=window.PLOTLYENV || {};\n",
       "                    window.PLOTLYENV.BASE_URL='https://plot.ly';\n",
       "                    \n",
       "                if (document.getElementById(\"fe7b419d-b9bc-4a4c-8cd1-15d28f6ea95b\")) {\n",
       "                    Plotly.newPlot(\n",
       "                        'fe7b419d-b9bc-4a4c-8cd1-15d28f6ea95b',\n",
       "                        [{\"name\": \"Masculino\", \"text\": [\"50.48%\", \"49.52%\"], \"textposition\": \"auto\", \"type\": \"bar\", \"uid\": \"a50ee4c8-e07f-4657-9f2b-c03de6a7bd14\", \"x\": [\"No-Autism\", \"Autism\"], \"y\": [105, 103]}],\n",
       "                        {\"barmode\": \"group\"},\n",
       "                        {\"showLink\": false, \"linkText\": \"Export to plot.ly\", \"plotlyServerURL\": \"https://plot.ly\", \"responsive\": true}\n",
       "                    ).then(function(){\n",
       "                            \n",
       "var gd = document.getElementById('fe7b419d-b9bc-4a4c-8cd1-15d28f6ea95b');\n",
       "var x = new MutationObserver(function (mutations, observer) {{\n",
       "        var display = window.getComputedStyle(gd).display;\n",
       "        if (!display || display === 'none') {{\n",
       "            console.log([gd, 'removed!']);\n",
       "            Plotly.purge(gd);\n",
       "            observer.disconnect();\n",
       "        }}\n",
       "}});\n",
       "\n",
       "// Listen for the removal of the full notebook cells\n",
       "var notebookContainer = gd.closest('#notebook-container');\n",
       "if (notebookContainer) {{\n",
       "    x.observe(notebookContainer, {childList: true});\n",
       "}}\n",
       "\n",
       "// Listen for the clearing of the current output cell\n",
       "var outputEl = gd.closest('.output');\n",
       "if (outputEl) {{\n",
       "    x.observe(outputEl, {childList: true});\n",
       "}}\n",
       "\n",
       "                        })\n",
       "                };\n",
       "                });\n",
       "            </script>\n",
       "        </div>"
      ]
     },
     "metadata": {},
     "output_type": "display_data"
    },
    {
     "data": {
      "application/vnd.plotly.v1+json": {
       "config": {
        "linkText": "Export to plot.ly",
        "plotlyServerURL": "https://plot.ly",
        "responsive": true,
        "showLink": false
       },
       "data": [
        {
         "marker": {
          "color": "orange"
         },
         "name": "Feminino",
         "text": [
          "54.76%",
          "45.24%"
         ],
         "textposition": "auto",
         "type": "bar",
         "uid": "422a6d10-684d-462f-ba4a-bc4b5452aa29",
         "x": [
          "No-Autism",
          "Autism"
         ],
         "y": [
          46,
          38
         ]
        }
       ],
       "layout": {
        "barmode": "stack"
       }
      },
      "text/html": [
       "<div>\n",
       "        \n",
       "        \n",
       "            <div id=\"2b61b557-d943-4587-b482-beb91071efbf\" class=\"plotly-graph-div\" style=\"height:525px; width:100%;\"></div>\n",
       "            <script type=\"text/javascript\">\n",
       "                require([\"plotly\"], function(Plotly) {\n",
       "                    window.PLOTLYENV=window.PLOTLYENV || {};\n",
       "                    window.PLOTLYENV.BASE_URL='https://plot.ly';\n",
       "                    \n",
       "                if (document.getElementById(\"2b61b557-d943-4587-b482-beb91071efbf\")) {\n",
       "                    Plotly.newPlot(\n",
       "                        '2b61b557-d943-4587-b482-beb91071efbf',\n",
       "                        [{\"name\": \"Masculino\", \"text\": [\"50.48%\", \"49.52%\"], \"textposition\": \"auto\", \"type\": \"bar\", \"uid\": \"9480df77-e8d0-41d7-b5f0-2052a9bca82a\", \"x\": [\"No-Autism\", \"Autism\"], \"y\": [105, 103]}, {\"name\": \"Feminino\", \"text\": [\"54.76%\", \"45.24%\"], \"textposition\": \"auto\", \"type\": \"bar\", \"uid\": \"422a6d10-684d-462f-ba4a-bc4b5452aa29\", \"x\": [\"No-Autism\", \"Autism\"], \"y\": [46, 38]}],\n",
       "                        {\"barmode\": \"group\"},\n",
       "                        {\"showLink\": false, \"linkText\": \"Export to plot.ly\", \"plotlyServerURL\": \"https://plot.ly\", \"responsive\": true}\n",
       "                    ).then(function(){\n",
       "                            \n",
       "var gd = document.getElementById('2b61b557-d943-4587-b482-beb91071efbf');\n",
       "var x = new MutationObserver(function (mutations, observer) {{\n",
       "        var display = window.getComputedStyle(gd).display;\n",
       "        if (!display || display === 'none') {{\n",
       "            console.log([gd, 'removed!']);\n",
       "            Plotly.purge(gd);\n",
       "            observer.disconnect();\n",
       "        }}\n",
       "}});\n",
       "\n",
       "// Listen for the removal of the full notebook cells\n",
       "var notebookContainer = gd.closest('#notebook-container');\n",
       "if (notebookContainer) {{\n",
       "    x.observe(notebookContainer, {childList: true});\n",
       "}}\n",
       "\n",
       "// Listen for the clearing of the current output cell\n",
       "var outputEl = gd.closest('.output');\n",
       "if (outputEl) {{\n",
       "    x.observe(outputEl, {childList: true});\n",
       "}}\n",
       "\n",
       "                        })\n",
       "                };\n",
       "                });\n",
       "            </script>\n",
       "        </div>"
      ]
     },
     "metadata": {},
     "output_type": "display_data"
    }
   ],
   "source": [
    "#Separando dataframe por sexo\n",
    "masc = df.query('gender == \"m\"')\n",
    "fem = df.query('gender == \"f\"')\n",
    "\n",
    "# Criando estrutura para armazenar Classe/ASD\n",
    "autismo_m = masc['Class/ASD'].value_counts().to_dict()\n",
    "autismo_f = fem['Class/ASD'].value_counts().to_dict()\n",
    "\n",
    "# Substituindo valores de classe NO -> NO-Autism, YES -> Autism\n",
    "\n",
    "new_x = [x for x in autismo_m.keys()]\n",
    "for i,v in enumerate(new_x):\n",
    "    if v == 'NO':\n",
    "        new_x[i] = v.replace('NO','No-Autism')\n",
    "    elif v == 'YES':\n",
    "        new_x[i] = v.replace('YES','Autism')\n",
    "        \n",
    "# Gráfica de representação\n",
    "\n",
    "trace_m = go.Bar(x   = new_x,\n",
    "                 y = list(autismo_m.values()),\n",
    "                 text = porcentagem(list(autismo_m.values())),\n",
    "                 textposition = 'auto',\n",
    "                 name = 'Masculino')\n",
    "\n",
    "trace_f = go.Bar(x = new_x2,\n",
    "                 y = list(autismo_f.values()),\n",
    "                 text = porcentagem(list(autismo_f.values())),\n",
    "                 textposition = 'auto',\n",
    "                 marker = dict(\n",
    "                    color = 'orange'\n",
    "                 ),\n",
    "                 name = 'Feminino')\n",
    "\n",
    "data1 = [trace_m]\n",
    "data2 = [trace_f]\n",
    "\n",
    "layout1 = go.Layout(barmode = 'group')\n",
    "layout2 = go.Layout(barmode = 'stack')\n",
    "\n",
    "fig1 = go.Figure(data=data1, layout = layout1)\n",
    "fig2 = go.Figure(data=data2, layout = layout2)\n",
    "py.iplot(fig1)\n",
    "py.iplot(fig2)"
   ]
  },
  {
   "cell_type": "code",
   "execution_count": null,
   "metadata": {},
   "outputs": [],
   "source": []
  },
  {
   "cell_type": "markdown",
   "metadata": {},
   "source": [
    "### Os 5 países com maior incidencia de autismo no dataset\n"
   ]
  },
  {
   "cell_type": "code",
   "execution_count": 10,
   "metadata": {},
   "outputs": [
    {
     "data": {
      "application/vnd.plotly.v1+json": {
       "config": {
        "linkText": "Export to plot.ly",
        "plotlyServerURL": "https://plot.ly",
        "responsive": true,
        "showLink": false
       },
       "data": [
        {
         "orientation": "h",
         "text": [
          "34.44%",
          "26.67%",
          "18.89%",
          "13.33%",
          "6.67%"
         ],
         "textposition": "auto",
         "type": "bar",
         "uid": "c856b718-a35b-43af-9894-96a3b0146349",
         "x": [
          31,
          24,
          17,
          12,
          6
         ],
         "y": [
          "United States",
          "United Kingdom",
          "India",
          "Australia",
          "Egypt"
         ]
        }
       ],
       "layout": {
        "title": {
         "text": "Os 5 países com maior incidência de autismo na amostra"
        },
        "xaxis": {
         "title": {
          "text": "Quantidade de autistas"
         }
        },
        "yaxis": {
         "title": {
          "text": ""
         }
        }
       }
      },
      "text/html": [
       "<div>\n",
       "        \n",
       "        \n",
       "            <div id=\"5247c883-a526-4d05-a7c6-c63fb2812f63\" class=\"plotly-graph-div\" style=\"height:525px; width:100%;\"></div>\n",
       "            <script type=\"text/javascript\">\n",
       "                require([\"plotly\"], function(Plotly) {\n",
       "                    window.PLOTLYENV=window.PLOTLYENV || {};\n",
       "                    window.PLOTLYENV.BASE_URL='https://plot.ly';\n",
       "                    \n",
       "                if (document.getElementById(\"5247c883-a526-4d05-a7c6-c63fb2812f63\")) {\n",
       "                    Plotly.newPlot(\n",
       "                        '5247c883-a526-4d05-a7c6-c63fb2812f63',\n",
       "                        [{\"orientation\": \"h\", \"text\": [\"34.44%\", \"26.67%\", \"18.89%\", \"13.33%\", \"6.67%\"], \"textposition\": \"auto\", \"type\": \"bar\", \"uid\": \"c856b718-a35b-43af-9894-96a3b0146349\", \"x\": [31, 24, 17, 12, 6], \"y\": [\"United States\", \"United Kingdom\", \"India\", \"Australia\", \"Egypt\"]}],\n",
       "                        {\"title\": {\"text\": \"Os 5 pa\\u00edses com maior incid\\u00eancia de autismo na amostra\"}, \"xaxis\": {\"title\": {\"text\": \"Quantidade de autistas\"}}, \"yaxis\": {\"title\": {\"text\": \"\"}}},\n",
       "                        {\"showLink\": false, \"linkText\": \"Export to plot.ly\", \"plotlyServerURL\": \"https://plot.ly\", \"responsive\": true}\n",
       "                    ).then(function(){\n",
       "                            \n",
       "var gd = document.getElementById('5247c883-a526-4d05-a7c6-c63fb2812f63');\n",
       "var x = new MutationObserver(function (mutations, observer) {{\n",
       "        var display = window.getComputedStyle(gd).display;\n",
       "        if (!display || display === 'none') {{\n",
       "            console.log([gd, 'removed!']);\n",
       "            Plotly.purge(gd);\n",
       "            observer.disconnect();\n",
       "        }}\n",
       "}});\n",
       "\n",
       "// Listen for the removal of the full notebook cells\n",
       "var notebookContainer = gd.closest('#notebook-container');\n",
       "if (notebookContainer) {{\n",
       "    x.observe(notebookContainer, {childList: true});\n",
       "}}\n",
       "\n",
       "// Listen for the clearing of the current output cell\n",
       "var outputEl = gd.closest('.output');\n",
       "if (outputEl) {{\n",
       "    x.observe(outputEl, {childList: true});\n",
       "}}\n",
       "\n",
       "                        })\n",
       "                };\n",
       "                });\n",
       "            </script>\n",
       "        </div>"
      ]
     },
     "metadata": {},
     "output_type": "display_data"
    },
    {
     "data": {
      "application/vnd.plotly.v1+json": {
       "config": {
        "linkText": "Export to plot.ly",
        "plotlyServerURL": "https://plot.ly",
        "showLink": false
       },
       "data": [
        {
         "orientation": "h",
         "text": [
          "27.84%",
          "23.86%",
          "23.86%",
          "13.07%",
          "11.36%"
         ],
         "textposition": "auto",
         "type": "bar",
         "uid": "17658ccd-fa77-44a8-8322-7b4aedec834e",
         "x": [
          49,
          42,
          42,
          23,
          20
         ],
         "y": [
          "United Kingdom",
          "United States",
          "India",
          "Australia",
          "Jordan"
         ]
        }
       ],
       "layout": {
        "title": {
         "text": "Países com mais participantes"
        },
        "xaxis": {
         "title": {
          "text": "Quantidade de autistas"
         }
        },
        "yaxis": {
         "title": {
          "text": ""
         }
        }
       }
      },
      "text/html": [
       "<div>\n",
       "        \n",
       "        \n",
       "            <div id=\"dd682d93-d6a9-445d-8b33-df14448b319b\" class=\"plotly-graph-div\" style=\"height:525px; width:100%;\"></div>\n",
       "            <script type=\"text/javascript\">\n",
       "                require([\"plotly\"], function(Plotly) {\n",
       "                    window.PLOTLYENV=window.PLOTLYENV || {};\n",
       "                    window.PLOTLYENV.BASE_URL='https://plot.ly';\n",
       "                    \n",
       "                if (document.getElementById(\"dd682d93-d6a9-445d-8b33-df14448b319b\")) {\n",
       "                    Plotly.newPlot(\n",
       "                        'dd682d93-d6a9-445d-8b33-df14448b319b',\n",
       "                        [{\"orientation\": \"h\", \"text\": [\"27.84%\", \"23.86%\", \"23.86%\", \"13.07%\", \"11.36%\"], \"textposition\": \"auto\", \"type\": \"bar\", \"uid\": \"17658ccd-fa77-44a8-8322-7b4aedec834e\", \"x\": [49, 42, 42, 23, 20], \"y\": [\"United Kingdom\", \"United States\", \"India\", \"Australia\", \"Jordan\"]}],\n",
       "                        {\"title\": {\"text\": \"Pa\\u00edses com mais participantes\"}, \"xaxis\": {\"title\": {\"text\": \"Quantidade de autistas\"}}, \"yaxis\": {\"title\": {\"text\": \"\"}}},\n",
       "                        {\"showLink\": false, \"linkText\": \"Export to plot.ly\", \"plotlyServerURL\": \"https://plot.ly\", \"responsive\": true}\n",
       "                    ).then(function(){\n",
       "                            \n",
       "var gd = document.getElementById('dd682d93-d6a9-445d-8b33-df14448b319b');\n",
       "var x = new MutationObserver(function (mutations, observer) {{\n",
       "        var display = window.getComputedStyle(gd).display;\n",
       "        if (!display || display === 'none') {{\n",
       "            console.log([gd, 'removed!']);\n",
       "            Plotly.purge(gd);\n",
       "            observer.disconnect();\n",
       "        }}\n",
       "}});\n",
       "\n",
       "// Listen for the removal of the full notebook cells\n",
       "var notebookContainer = gd.closest('#notebook-container');\n",
       "if (notebookContainer) {{\n",
       "    x.observe(notebookContainer, {childList: true});\n",
       "}}\n",
       "\n",
       "// Listen for the clearing of the current output cell\n",
       "var outputEl = gd.closest('.output');\n",
       "if (outputEl) {{\n",
       "    x.observe(outputEl, {childList: true});\n",
       "}}\n",
       "\n",
       "                        })\n",
       "                };\n",
       "                });\n",
       "            </script>\n",
       "        </div>"
      ]
     },
     "metadata": {},
     "output_type": "display_data"
    }
   ],
   "source": [
    "# Filtrando dataframe apenas para crianças autistas\n",
    "df_aut = df[df['Class/ASD'] == \"YES\"]\n",
    "\n",
    "#Armazenando a quantidade em ordem crescente do número de autistas por paises.\n",
    "contry = df_aut['contry_of_res'].value_counts().sort_values(ascending = False)\n",
    "country = df['contry_of_res'].value_counts().sort_values(ascending = False)\n",
    "\n",
    "# COnstruindo o gráfico\n",
    "data2 = [go.Bar(x = contry[:5],\n",
    "                y = contry.index[:5],\n",
    "                text = porcentagem(contry[:5]),\n",
    "                textposition = 'auto',\n",
    "                orientation = 'h')]\n",
    "\n",
    "py.iplot({\n",
    "\"data\": data2,\n",
    "\"layout\": Layout(\n",
    "    title=\"Os 5 países com maior incidência de autismo na amostra\",\n",
    "    xaxis=dict(title=\"Quantidade de autistas\"),\n",
    "    yaxis=dict(title=\"\")\n",
    ")\n",
    "})\n",
    "\n",
    "data3 = [go.Bar(x = country[:5],\n",
    "                y = country.index[:5],\n",
    "                text = porcentagem(country[:5]),\n",
    "                textposition = 'auto',\n",
    "                orientation = 'h')]\n",
    "\n",
    "py.iplot({\n",
    "\"data\": data3,\n",
    "\"layout\": Layout(\n",
    "    title=\"Países com mais participantes\",\n",
    "    xaxis=dict(title=\"Quantidade de autistas\"),\n",
    "    yaxis=dict(title=\"\")\n",
    ")\n",
    "})"
   ]
  },
  {
   "cell_type": "markdown",
   "metadata": {},
   "source": [
    "### Herança genética das crianças com autismo\n",
    "\n",
    "O fato de ter alguém com autismo na família pode indicar que outras pessoas nessa família teram autismo?"
   ]
  },
  {
   "cell_type": "code",
   "execution_count": 9,
   "metadata": {},
   "outputs": [
    {
     "data": {
      "application/vnd.plotly.v1+json": {
       "config": {
        "linkText": "Export to plot.ly",
        "plotlyServerURL": "https://plot.ly",
        "responsive": true,
        "showLink": false
       },
       "data": [
        {
         "name": "Parente S/Autismo",
         "text": [
          "50.62%",
          "49.38%"
         ],
         "textposition": "auto",
         "type": "bar",
         "uid": "c60451e4-55e3-48c7-95e3-090602e6958f",
         "x": [
          "No-Autism",
          "Autism"
         ],
         "y": [
          123,
          120
         ]
        },
        {
         "name": "Parente C/Autismo",
         "text": [
          "57.14%",
          "42.86%"
         ],
         "textposition": "auto",
         "type": "bar",
         "uid": "88900fbb-f647-49bf-acd9-cf4fb467d665",
         "x": [
          "No-Autism",
          "Autism"
         ],
         "y": [
          28,
          21
         ]
        }
       ],
       "layout": {
        "barmode": "group"
       }
      },
      "text/html": [
       "<div>\n",
       "        \n",
       "        \n",
       "            <div id=\"92b20e5c-f172-47a3-9647-51db0aa4e827\" class=\"plotly-graph-div\" style=\"height:525px; width:100%;\"></div>\n",
       "            <script type=\"text/javascript\">\n",
       "                require([\"plotly\"], function(Plotly) {\n",
       "                    window.PLOTLYENV=window.PLOTLYENV || {};\n",
       "                    window.PLOTLYENV.BASE_URL='https://plot.ly';\n",
       "                    \n",
       "                if (document.getElementById(\"92b20e5c-f172-47a3-9647-51db0aa4e827\")) {\n",
       "                    Plotly.newPlot(\n",
       "                        '92b20e5c-f172-47a3-9647-51db0aa4e827',\n",
       "                        [{\"name\": \"Parente S/Autismo\", \"text\": [\"50.62%\", \"49.38%\"], \"textposition\": \"auto\", \"type\": \"bar\", \"uid\": \"c60451e4-55e3-48c7-95e3-090602e6958f\", \"x\": [\"No-Autism\", \"Autism\"], \"y\": [123, 120]}, {\"name\": \"Parente C/Autismo\", \"text\": [\"57.14%\", \"42.86%\"], \"textposition\": \"auto\", \"type\": \"bar\", \"uid\": \"88900fbb-f647-49bf-acd9-cf4fb467d665\", \"x\": [\"No-Autism\", \"Autism\"], \"y\": [28, 21]}],\n",
       "                        {\"barmode\": \"group\"},\n",
       "                        {\"showLink\": false, \"linkText\": \"Export to plot.ly\", \"plotlyServerURL\": \"https://plot.ly\", \"responsive\": true}\n",
       "                    ).then(function(){\n",
       "                            \n",
       "var gd = document.getElementById('92b20e5c-f172-47a3-9647-51db0aa4e827');\n",
       "var x = new MutationObserver(function (mutations, observer) {{\n",
       "        var display = window.getComputedStyle(gd).display;\n",
       "        if (!display || display === 'none') {{\n",
       "            console.log([gd, 'removed!']);\n",
       "            Plotly.purge(gd);\n",
       "            observer.disconnect();\n",
       "        }}\n",
       "}});\n",
       "\n",
       "// Listen for the removal of the full notebook cells\n",
       "var notebookContainer = gd.closest('#notebook-container');\n",
       "if (notebookContainer) {{\n",
       "    x.observe(notebookContainer, {childList: true});\n",
       "}}\n",
       "\n",
       "// Listen for the clearing of the current output cell\n",
       "var outputEl = gd.closest('.output');\n",
       "if (outputEl) {{\n",
       "    x.observe(outputEl, {childList: true});\n",
       "}}\n",
       "\n",
       "                        })\n",
       "                };\n",
       "                });\n",
       "            </script>\n",
       "        </div>"
      ]
     },
     "metadata": {},
     "output_type": "display_data"
    }
   ],
   "source": [
    "# Agrupando casos de autismo em parentes com os pacientes analisados do dataset\n",
    "parentes = df.groupby('austim')['Class/ASD'].value_counts()\n",
    "\n",
    "# Criando gráfico para visualização\n",
    "trace_psa = go.Bar(x = new_x,\n",
    "                  y = list(parentes[:2]),\n",
    "                  text = porcentagem(list(parentes[:2])),\n",
    "                  textposition = 'auto',\n",
    "                  name = 'Parente S/Autismo')\n",
    "\n",
    "trace_pca = go.Bar(x = new_x,\n",
    "                  y = list(parentes[2:]),\n",
    "                  text = porcentagem(list(parentes[2:])),\n",
    "                  textposition = 'auto',\n",
    "                  name = 'Parente C/Autismo')\n",
    "\n",
    "data3 = [trace_psa,trace_pca]\n",
    "\n",
    "layout2 = go.Layout(barmode = 'group')\n",
    "\n",
    "fig2 = go.Figure(data=data3, layout = layout2)\n",
    "\n",
    "py.iplot(fig2)\n"
   ]
  },
  {
   "cell_type": "code",
   "execution_count": null,
   "metadata": {},
   "outputs": [],
   "source": []
  },
  {
   "cell_type": "code",
   "execution_count": null,
   "metadata": {},
   "outputs": [],
   "source": []
  }
 ],
 "metadata": {
  "kernelspec": {
   "display_name": "Python 3",
   "language": "python",
   "name": "python3"
  },
  "language_info": {
   "codemirror_mode": {
    "name": "ipython",
    "version": 3
   },
   "file_extension": ".py",
   "mimetype": "text/x-python",
   "name": "python",
   "nbconvert_exporter": "python",
   "pygments_lexer": "ipython3",
   "version": "3.7.3"
  }
 },
 "nbformat": 4,
 "nbformat_minor": 2
}
